{
  "nbformat": 4,
  "nbformat_minor": 0,
  "metadata": {
    "colab": {
      "provenance": [],
      "include_colab_link": true
    },
    "kernelspec": {
      "name": "python3",
      "display_name": "Python 3"
    },
    "language_info": {
      "name": "python"
    }
  },
  "cells": [
    {
      "cell_type": "markdown",
      "metadata": {
        "id": "view-in-github",
        "colab_type": "text"
      },
      "source": [
        "<a href=\"https://colab.research.google.com/github/isamontresoro/dl-survey-live-lab-2025/blob/main/notebooks/01_baseline_random_forest_gradio.ipynb\" target=\"_parent\"><img src=\"https://colab.research.google.com/assets/colab-badge.svg\" alt=\"Open In Colab\"/></a>"
      ]
    },
    {
      "cell_type": "markdown",
      "source": [
        "# 01 — Baseline Random Forest (Student)\n",
        "\n",
        "**Today we will:**\n",
        "1) Load the Adult dataset (classification: `income`).\n",
        "2) Split train/test **first** (avoid leakage).\n",
        "3) Handle missing values (numeric: mean; categorical: most frequent).\n",
        "4) Encode categorical features:\n",
        "   - Label encode **one** column (`sex`)\n",
        "   - One-hot encode the rest\n",
        "5) (Practice) Scale numeric features (StandardScaler).\n",
        "6) Train a **RandomForestClassifier** and evaluate it.\n",
        "7) **Deep dive** into the RF object: attributes & methods.\n",
        "8) Try a few hyperparameters and record results in your `students/experiment_log.md`.\n",
        "9) Peek at **GridSearchCV** (teacher-led demo).\n",
        "\n",
        "> As you work: add short notes in your experiment log (Goal → Setup → Results → Reflection).\n"
      ],
      "metadata": {
        "id": "7kEq4maoG9eW"
      }
    },
    {
      "cell_type": "markdown",
      "source": [
        "### Setup"
      ],
      "metadata": {
        "id": "V4h1ZDmyHIrA"
      }
    },
    {
      "cell_type": "code",
      "source": [
        "# 0) Setup\n",
        "!pip -q install scikit-learn pandas matplotlib seaborn\n",
        "\n",
        "import pandas as pd\n",
        "import numpy as np\n",
        "import matplotlib.pyplot as plt\n",
        "import seaborn as sns\n",
        "\n",
        "from sklearn.model_selection import train_test_split\n",
        "from sklearn.preprocessing import OneHotEncoder, StandardScaler, LabelEncoder\n",
        "from sklearn.impute import SimpleImputer\n",
        "from sklearn.ensemble import RandomForestClassifier\n",
        "from sklearn.metrics import classification_report, confusion_matrix\n",
        "from sklearn.datasets import fetch_openml\n",
        "\n",
        "print(\"Ready.\")\n"
      ],
      "metadata": {
        "colab": {
          "base_uri": "https://localhost:8080/"
        },
        "id": "QzRQw9sKHCK6",
        "outputId": "f161e7db-ae28-4a5e-b10e-3edc7c67bcbd"
      },
      "execution_count": 1,
      "outputs": [
        {
          "output_type": "stream",
          "name": "stdout",
          "text": [
            "Ready.\n"
          ]
        }
      ]
    },
    {
      "cell_type": "markdown",
      "source": [
        "### Load data"
      ],
      "metadata": {
        "id": "XA0TOkgFHMCu"
      }
    },
    {
      "cell_type": "code",
      "source": [
        "# 1) Load the Adult dataset from OpenML\n",
        "adult = fetch_openml(name=\"adult\", version=2, as_frame=True)\n",
        "df = adult.frame.copy()\n",
        "df.head()\n"
      ],
      "metadata": {
        "colab": {
          "base_uri": "https://localhost:8080/",
          "height": 348
        },
        "id": "tMjwBsLKHPvI",
        "outputId": "cdc1254d-bebb-443f-adcb-6924d45e058b"
      },
      "execution_count": 2,
      "outputs": [
        {
          "output_type": "execute_result",
          "data": {
            "text/plain": [
              "   age  workclass  fnlwgt     education  education-num      marital-status  \\\n",
              "0   25    Private  226802          11th              7       Never-married   \n",
              "1   38    Private   89814       HS-grad              9  Married-civ-spouse   \n",
              "2   28  Local-gov  336951    Assoc-acdm             12  Married-civ-spouse   \n",
              "3   44    Private  160323  Some-college             10  Married-civ-spouse   \n",
              "4   18        NaN  103497  Some-college             10       Never-married   \n",
              "\n",
              "          occupation relationship   race     sex  capital-gain  capital-loss  \\\n",
              "0  Machine-op-inspct    Own-child  Black    Male             0             0   \n",
              "1    Farming-fishing      Husband  White    Male             0             0   \n",
              "2    Protective-serv      Husband  White    Male             0             0   \n",
              "3  Machine-op-inspct      Husband  Black    Male          7688             0   \n",
              "4                NaN    Own-child  White  Female             0             0   \n",
              "\n",
              "   hours-per-week native-country  class  \n",
              "0              40  United-States  <=50K  \n",
              "1              50  United-States  <=50K  \n",
              "2              40  United-States   >50K  \n",
              "3              40  United-States   >50K  \n",
              "4              30  United-States  <=50K  "
            ],
            "text/html": [
              "\n",
              "  <div id=\"df-ccf923c2-fc2b-46cb-ac78-d1c3fa70b90c\" class=\"colab-df-container\">\n",
              "    <div>\n",
              "<style scoped>\n",
              "    .dataframe tbody tr th:only-of-type {\n",
              "        vertical-align: middle;\n",
              "    }\n",
              "\n",
              "    .dataframe tbody tr th {\n",
              "        vertical-align: top;\n",
              "    }\n",
              "\n",
              "    .dataframe thead th {\n",
              "        text-align: right;\n",
              "    }\n",
              "</style>\n",
              "<table border=\"1\" class=\"dataframe\">\n",
              "  <thead>\n",
              "    <tr style=\"text-align: right;\">\n",
              "      <th></th>\n",
              "      <th>age</th>\n",
              "      <th>workclass</th>\n",
              "      <th>fnlwgt</th>\n",
              "      <th>education</th>\n",
              "      <th>education-num</th>\n",
              "      <th>marital-status</th>\n",
              "      <th>occupation</th>\n",
              "      <th>relationship</th>\n",
              "      <th>race</th>\n",
              "      <th>sex</th>\n",
              "      <th>capital-gain</th>\n",
              "      <th>capital-loss</th>\n",
              "      <th>hours-per-week</th>\n",
              "      <th>native-country</th>\n",
              "      <th>class</th>\n",
              "    </tr>\n",
              "  </thead>\n",
              "  <tbody>\n",
              "    <tr>\n",
              "      <th>0</th>\n",
              "      <td>25</td>\n",
              "      <td>Private</td>\n",
              "      <td>226802</td>\n",
              "      <td>11th</td>\n",
              "      <td>7</td>\n",
              "      <td>Never-married</td>\n",
              "      <td>Machine-op-inspct</td>\n",
              "      <td>Own-child</td>\n",
              "      <td>Black</td>\n",
              "      <td>Male</td>\n",
              "      <td>0</td>\n",
              "      <td>0</td>\n",
              "      <td>40</td>\n",
              "      <td>United-States</td>\n",
              "      <td>&lt;=50K</td>\n",
              "    </tr>\n",
              "    <tr>\n",
              "      <th>1</th>\n",
              "      <td>38</td>\n",
              "      <td>Private</td>\n",
              "      <td>89814</td>\n",
              "      <td>HS-grad</td>\n",
              "      <td>9</td>\n",
              "      <td>Married-civ-spouse</td>\n",
              "      <td>Farming-fishing</td>\n",
              "      <td>Husband</td>\n",
              "      <td>White</td>\n",
              "      <td>Male</td>\n",
              "      <td>0</td>\n",
              "      <td>0</td>\n",
              "      <td>50</td>\n",
              "      <td>United-States</td>\n",
              "      <td>&lt;=50K</td>\n",
              "    </tr>\n",
              "    <tr>\n",
              "      <th>2</th>\n",
              "      <td>28</td>\n",
              "      <td>Local-gov</td>\n",
              "      <td>336951</td>\n",
              "      <td>Assoc-acdm</td>\n",
              "      <td>12</td>\n",
              "      <td>Married-civ-spouse</td>\n",
              "      <td>Protective-serv</td>\n",
              "      <td>Husband</td>\n",
              "      <td>White</td>\n",
              "      <td>Male</td>\n",
              "      <td>0</td>\n",
              "      <td>0</td>\n",
              "      <td>40</td>\n",
              "      <td>United-States</td>\n",
              "      <td>&gt;50K</td>\n",
              "    </tr>\n",
              "    <tr>\n",
              "      <th>3</th>\n",
              "      <td>44</td>\n",
              "      <td>Private</td>\n",
              "      <td>160323</td>\n",
              "      <td>Some-college</td>\n",
              "      <td>10</td>\n",
              "      <td>Married-civ-spouse</td>\n",
              "      <td>Machine-op-inspct</td>\n",
              "      <td>Husband</td>\n",
              "      <td>Black</td>\n",
              "      <td>Male</td>\n",
              "      <td>7688</td>\n",
              "      <td>0</td>\n",
              "      <td>40</td>\n",
              "      <td>United-States</td>\n",
              "      <td>&gt;50K</td>\n",
              "    </tr>\n",
              "    <tr>\n",
              "      <th>4</th>\n",
              "      <td>18</td>\n",
              "      <td>NaN</td>\n",
              "      <td>103497</td>\n",
              "      <td>Some-college</td>\n",
              "      <td>10</td>\n",
              "      <td>Never-married</td>\n",
              "      <td>NaN</td>\n",
              "      <td>Own-child</td>\n",
              "      <td>White</td>\n",
              "      <td>Female</td>\n",
              "      <td>0</td>\n",
              "      <td>0</td>\n",
              "      <td>30</td>\n",
              "      <td>United-States</td>\n",
              "      <td>&lt;=50K</td>\n",
              "    </tr>\n",
              "  </tbody>\n",
              "</table>\n",
              "</div>\n",
              "    <div class=\"colab-df-buttons\">\n",
              "\n",
              "  <div class=\"colab-df-container\">\n",
              "    <button class=\"colab-df-convert\" onclick=\"convertToInteractive('df-ccf923c2-fc2b-46cb-ac78-d1c3fa70b90c')\"\n",
              "            title=\"Convert this dataframe to an interactive table.\"\n",
              "            style=\"display:none;\">\n",
              "\n",
              "  <svg xmlns=\"http://www.w3.org/2000/svg\" height=\"24px\" viewBox=\"0 -960 960 960\">\n",
              "    <path d=\"M120-120v-720h720v720H120Zm60-500h600v-160H180v160Zm220 220h160v-160H400v160Zm0 220h160v-160H400v160ZM180-400h160v-160H180v160Zm440 0h160v-160H620v160ZM180-180h160v-160H180v160Zm440 0h160v-160H620v160Z\"/>\n",
              "  </svg>\n",
              "    </button>\n",
              "\n",
              "  <style>\n",
              "    .colab-df-container {\n",
              "      display:flex;\n",
              "      gap: 12px;\n",
              "    }\n",
              "\n",
              "    .colab-df-convert {\n",
              "      background-color: #E8F0FE;\n",
              "      border: none;\n",
              "      border-radius: 50%;\n",
              "      cursor: pointer;\n",
              "      display: none;\n",
              "      fill: #1967D2;\n",
              "      height: 32px;\n",
              "      padding: 0 0 0 0;\n",
              "      width: 32px;\n",
              "    }\n",
              "\n",
              "    .colab-df-convert:hover {\n",
              "      background-color: #E2EBFA;\n",
              "      box-shadow: 0px 1px 2px rgba(60, 64, 67, 0.3), 0px 1px 3px 1px rgba(60, 64, 67, 0.15);\n",
              "      fill: #174EA6;\n",
              "    }\n",
              "\n",
              "    .colab-df-buttons div {\n",
              "      margin-bottom: 4px;\n",
              "    }\n",
              "\n",
              "    [theme=dark] .colab-df-convert {\n",
              "      background-color: #3B4455;\n",
              "      fill: #D2E3FC;\n",
              "    }\n",
              "\n",
              "    [theme=dark] .colab-df-convert:hover {\n",
              "      background-color: #434B5C;\n",
              "      box-shadow: 0px 1px 3px 1px rgba(0, 0, 0, 0.15);\n",
              "      filter: drop-shadow(0px 1px 2px rgba(0, 0, 0, 0.3));\n",
              "      fill: #FFFFFF;\n",
              "    }\n",
              "  </style>\n",
              "\n",
              "    <script>\n",
              "      const buttonEl =\n",
              "        document.querySelector('#df-ccf923c2-fc2b-46cb-ac78-d1c3fa70b90c button.colab-df-convert');\n",
              "      buttonEl.style.display =\n",
              "        google.colab.kernel.accessAllowed ? 'block' : 'none';\n",
              "\n",
              "      async function convertToInteractive(key) {\n",
              "        const element = document.querySelector('#df-ccf923c2-fc2b-46cb-ac78-d1c3fa70b90c');\n",
              "        const dataTable =\n",
              "          await google.colab.kernel.invokeFunction('convertToInteractive',\n",
              "                                                    [key], {});\n",
              "        if (!dataTable) return;\n",
              "\n",
              "        const docLinkHtml = 'Like what you see? Visit the ' +\n",
              "          '<a target=\"_blank\" href=https://colab.research.google.com/notebooks/data_table.ipynb>data table notebook</a>'\n",
              "          + ' to learn more about interactive tables.';\n",
              "        element.innerHTML = '';\n",
              "        dataTable['output_type'] = 'display_data';\n",
              "        await google.colab.output.renderOutput(dataTable, element);\n",
              "        const docLink = document.createElement('div');\n",
              "        docLink.innerHTML = docLinkHtml;\n",
              "        element.appendChild(docLink);\n",
              "      }\n",
              "    </script>\n",
              "  </div>\n",
              "\n",
              "\n",
              "    <div id=\"df-eb747dd2-a67e-4e02-bcc9-f7002c60f0b7\">\n",
              "      <button class=\"colab-df-quickchart\" onclick=\"quickchart('df-eb747dd2-a67e-4e02-bcc9-f7002c60f0b7')\"\n",
              "                title=\"Suggest charts\"\n",
              "                style=\"display:none;\">\n",
              "\n",
              "<svg xmlns=\"http://www.w3.org/2000/svg\" height=\"24px\"viewBox=\"0 0 24 24\"\n",
              "     width=\"24px\">\n",
              "    <g>\n",
              "        <path d=\"M19 3H5c-1.1 0-2 .9-2 2v14c0 1.1.9 2 2 2h14c1.1 0 2-.9 2-2V5c0-1.1-.9-2-2-2zM9 17H7v-7h2v7zm4 0h-2V7h2v10zm4 0h-2v-4h2v4z\"/>\n",
              "    </g>\n",
              "</svg>\n",
              "      </button>\n",
              "\n",
              "<style>\n",
              "  .colab-df-quickchart {\n",
              "      --bg-color: #E8F0FE;\n",
              "      --fill-color: #1967D2;\n",
              "      --hover-bg-color: #E2EBFA;\n",
              "      --hover-fill-color: #174EA6;\n",
              "      --disabled-fill-color: #AAA;\n",
              "      --disabled-bg-color: #DDD;\n",
              "  }\n",
              "\n",
              "  [theme=dark] .colab-df-quickchart {\n",
              "      --bg-color: #3B4455;\n",
              "      --fill-color: #D2E3FC;\n",
              "      --hover-bg-color: #434B5C;\n",
              "      --hover-fill-color: #FFFFFF;\n",
              "      --disabled-bg-color: #3B4455;\n",
              "      --disabled-fill-color: #666;\n",
              "  }\n",
              "\n",
              "  .colab-df-quickchart {\n",
              "    background-color: var(--bg-color);\n",
              "    border: none;\n",
              "    border-radius: 50%;\n",
              "    cursor: pointer;\n",
              "    display: none;\n",
              "    fill: var(--fill-color);\n",
              "    height: 32px;\n",
              "    padding: 0;\n",
              "    width: 32px;\n",
              "  }\n",
              "\n",
              "  .colab-df-quickchart:hover {\n",
              "    background-color: var(--hover-bg-color);\n",
              "    box-shadow: 0 1px 2px rgba(60, 64, 67, 0.3), 0 1px 3px 1px rgba(60, 64, 67, 0.15);\n",
              "    fill: var(--button-hover-fill-color);\n",
              "  }\n",
              "\n",
              "  .colab-df-quickchart-complete:disabled,\n",
              "  .colab-df-quickchart-complete:disabled:hover {\n",
              "    background-color: var(--disabled-bg-color);\n",
              "    fill: var(--disabled-fill-color);\n",
              "    box-shadow: none;\n",
              "  }\n",
              "\n",
              "  .colab-df-spinner {\n",
              "    border: 2px solid var(--fill-color);\n",
              "    border-color: transparent;\n",
              "    border-bottom-color: var(--fill-color);\n",
              "    animation:\n",
              "      spin 1s steps(1) infinite;\n",
              "  }\n",
              "\n",
              "  @keyframes spin {\n",
              "    0% {\n",
              "      border-color: transparent;\n",
              "      border-bottom-color: var(--fill-color);\n",
              "      border-left-color: var(--fill-color);\n",
              "    }\n",
              "    20% {\n",
              "      border-color: transparent;\n",
              "      border-left-color: var(--fill-color);\n",
              "      border-top-color: var(--fill-color);\n",
              "    }\n",
              "    30% {\n",
              "      border-color: transparent;\n",
              "      border-left-color: var(--fill-color);\n",
              "      border-top-color: var(--fill-color);\n",
              "      border-right-color: var(--fill-color);\n",
              "    }\n",
              "    40% {\n",
              "      border-color: transparent;\n",
              "      border-right-color: var(--fill-color);\n",
              "      border-top-color: var(--fill-color);\n",
              "    }\n",
              "    60% {\n",
              "      border-color: transparent;\n",
              "      border-right-color: var(--fill-color);\n",
              "    }\n",
              "    80% {\n",
              "      border-color: transparent;\n",
              "      border-right-color: var(--fill-color);\n",
              "      border-bottom-color: var(--fill-color);\n",
              "    }\n",
              "    90% {\n",
              "      border-color: transparent;\n",
              "      border-bottom-color: var(--fill-color);\n",
              "    }\n",
              "  }\n",
              "</style>\n",
              "\n",
              "      <script>\n",
              "        async function quickchart(key) {\n",
              "          const quickchartButtonEl =\n",
              "            document.querySelector('#' + key + ' button');\n",
              "          quickchartButtonEl.disabled = true;  // To prevent multiple clicks.\n",
              "          quickchartButtonEl.classList.add('colab-df-spinner');\n",
              "          try {\n",
              "            const charts = await google.colab.kernel.invokeFunction(\n",
              "                'suggestCharts', [key], {});\n",
              "          } catch (error) {\n",
              "            console.error('Error during call to suggestCharts:', error);\n",
              "          }\n",
              "          quickchartButtonEl.classList.remove('colab-df-spinner');\n",
              "          quickchartButtonEl.classList.add('colab-df-quickchart-complete');\n",
              "        }\n",
              "        (() => {\n",
              "          let quickchartButtonEl =\n",
              "            document.querySelector('#df-eb747dd2-a67e-4e02-bcc9-f7002c60f0b7 button');\n",
              "          quickchartButtonEl.style.display =\n",
              "            google.colab.kernel.accessAllowed ? 'block' : 'none';\n",
              "        })();\n",
              "      </script>\n",
              "    </div>\n",
              "\n",
              "    </div>\n",
              "  </div>\n"
            ],
            "application/vnd.google.colaboratory.intrinsic+json": {
              "type": "dataframe",
              "variable_name": "df",
              "summary": "{\n  \"name\": \"df\",\n  \"rows\": 48842,\n  \"fields\": [\n    {\n      \"column\": \"age\",\n      \"properties\": {\n        \"dtype\": \"number\",\n        \"std\": 13,\n        \"min\": 17,\n        \"max\": 90,\n        \"num_unique_values\": 74,\n        \"samples\": [\n          18,\n          74,\n          40\n        ],\n        \"semantic_type\": \"\",\n        \"description\": \"\"\n      }\n    },\n    {\n      \"column\": \"workclass\",\n      \"properties\": {\n        \"dtype\": \"category\",\n        \"num_unique_values\": 8,\n        \"samples\": [\n          \"Local-gov\",\n          \"Self-emp-inc\",\n          \"Private\"\n        ],\n        \"semantic_type\": \"\",\n        \"description\": \"\"\n      }\n    },\n    {\n      \"column\": \"fnlwgt\",\n      \"properties\": {\n        \"dtype\": \"number\",\n        \"std\": 105604,\n        \"min\": 12285,\n        \"max\": 1490400,\n        \"num_unique_values\": 28523,\n        \"samples\": [\n          171041,\n          20296,\n          263896\n        ],\n        \"semantic_type\": \"\",\n        \"description\": \"\"\n      }\n    },\n    {\n      \"column\": \"education\",\n      \"properties\": {\n        \"dtype\": \"category\",\n        \"num_unique_values\": 16,\n        \"samples\": [\n          \"11th\",\n          \"HS-grad\",\n          \"Prof-school\"\n        ],\n        \"semantic_type\": \"\",\n        \"description\": \"\"\n      }\n    },\n    {\n      \"column\": \"education-num\",\n      \"properties\": {\n        \"dtype\": \"number\",\n        \"std\": 2,\n        \"min\": 1,\n        \"max\": 16,\n        \"num_unique_values\": 16,\n        \"samples\": [\n          7,\n          9,\n          15\n        ],\n        \"semantic_type\": \"\",\n        \"description\": \"\"\n      }\n    },\n    {\n      \"column\": \"marital-status\",\n      \"properties\": {\n        \"dtype\": \"category\",\n        \"num_unique_values\": 7,\n        \"samples\": [\n          \"Never-married\",\n          \"Married-civ-spouse\",\n          \"Married-spouse-absent\"\n        ],\n        \"semantic_type\": \"\",\n        \"description\": \"\"\n      }\n    },\n    {\n      \"column\": \"occupation\",\n      \"properties\": {\n        \"dtype\": \"category\",\n        \"num_unique_values\": 14,\n        \"samples\": [\n          \"Sales\",\n          \"Transport-moving\",\n          \"Machine-op-inspct\"\n        ],\n        \"semantic_type\": \"\",\n        \"description\": \"\"\n      }\n    },\n    {\n      \"column\": \"relationship\",\n      \"properties\": {\n        \"dtype\": \"category\",\n        \"num_unique_values\": 6,\n        \"samples\": [\n          \"Own-child\",\n          \"Husband\",\n          \"Other-relative\"\n        ],\n        \"semantic_type\": \"\",\n        \"description\": \"\"\n      }\n    },\n    {\n      \"column\": \"race\",\n      \"properties\": {\n        \"dtype\": \"category\",\n        \"num_unique_values\": 5,\n        \"samples\": [\n          \"White\",\n          \"Amer-Indian-Eskimo\",\n          \"Asian-Pac-Islander\"\n        ],\n        \"semantic_type\": \"\",\n        \"description\": \"\"\n      }\n    },\n    {\n      \"column\": \"sex\",\n      \"properties\": {\n        \"dtype\": \"category\",\n        \"num_unique_values\": 2,\n        \"samples\": [\n          \"Female\",\n          \"Male\"\n        ],\n        \"semantic_type\": \"\",\n        \"description\": \"\"\n      }\n    },\n    {\n      \"column\": \"capital-gain\",\n      \"properties\": {\n        \"dtype\": \"number\",\n        \"std\": 7452,\n        \"min\": 0,\n        \"max\": 99999,\n        \"num_unique_values\": 123,\n        \"samples\": [\n          4064,\n          4787\n        ],\n        \"semantic_type\": \"\",\n        \"description\": \"\"\n      }\n    },\n    {\n      \"column\": \"capital-loss\",\n      \"properties\": {\n        \"dtype\": \"number\",\n        \"std\": 403,\n        \"min\": 0,\n        \"max\": 4356,\n        \"num_unique_values\": 99,\n        \"samples\": [\n          2238,\n          1564\n        ],\n        \"semantic_type\": \"\",\n        \"description\": \"\"\n      }\n    },\n    {\n      \"column\": \"hours-per-week\",\n      \"properties\": {\n        \"dtype\": \"number\",\n        \"std\": 12,\n        \"min\": 1,\n        \"max\": 99,\n        \"num_unique_values\": 96,\n        \"samples\": [\n          9,\n          11\n        ],\n        \"semantic_type\": \"\",\n        \"description\": \"\"\n      }\n    },\n    {\n      \"column\": \"native-country\",\n      \"properties\": {\n        \"dtype\": \"category\",\n        \"num_unique_values\": 41,\n        \"samples\": [\n          \"Canada\",\n          \"South\"\n        ],\n        \"semantic_type\": \"\",\n        \"description\": \"\"\n      }\n    },\n    {\n      \"column\": \"class\",\n      \"properties\": {\n        \"dtype\": \"category\",\n        \"num_unique_values\": 2,\n        \"samples\": [\n          \">50K\",\n          \"<=50K\"\n        ],\n        \"semantic_type\": \"\",\n        \"description\": \"\"\n      }\n    }\n  ]\n}"
            }
          },
          "metadata": {},
          "execution_count": 2
        }
      ]
    },
    {
      "cell_type": "markdown",
      "source": [
        "**Question:** Is this a classification or regression problem?  \n",
        "**Target column:** ???\n"
      ],
      "metadata": {
        "id": "fCor1H6KHaU9"
      }
    },
    {
      "cell_type": "markdown",
      "source": [
        "### Choose columns & split FIRST"
      ],
      "metadata": {
        "id": "1nGA1kAmHdAY"
      }
    },
    {
      "cell_type": "code",
      "source": [
        "# 2) Choose columns (keep it small for speed)\n",
        "numeric_features = [\"age\", \"hours-per-week\", \"education-num\", \"capital-gain\", \"capital-loss\"]\n",
        "categorical_features = [\"workclass\", \"marital-status\", \"occupation\", \"sex\", \"native-country\"]\n",
        "target_col = \"class\"\n",
        "\n",
        "use_cols = numeric_features + categorical_features + [target_col]\n",
        "df = df[use_cols].copy()\n",
        "\n",
        "# 3) Split FIRST (to avoid leakage)\n",
        "X = df.drop(columns=[target_col])\n",
        "y = df[target_col]\n",
        "\n",
        "X_train, X_test, y_train, y_test = train_test_split(\n",
        "    X, y, test_size=0.20, random_state=42, stratify=y\n",
        ")\n",
        "X_train.shape, X_test.shape\n"
      ],
      "metadata": {
        "colab": {
          "base_uri": "https://localhost:8080/"
        },
        "id": "XrQpnKQyHkKe",
        "outputId": "758a41f7-f815-42a7-92f4-e3bee7f7d1d2"
      },
      "execution_count": 3,
      "outputs": [
        {
          "output_type": "execute_result",
          "data": {
            "text/plain": [
              "((39073, 10), (9769, 10))"
            ]
          },
          "metadata": {},
          "execution_count": 3
        }
      ]
    },
    {
      "cell_type": "markdown",
      "source": [
        "**Why split first?**  \n",
        "So that ....\n"
      ],
      "metadata": {
        "id": "3jkmTckzH6b3"
      }
    },
    {
      "cell_type": "markdown",
      "source": [
        "### Handle missing values"
      ],
      "metadata": {
        "id": "XPllvxCZIBOM"
      }
    },
    {
      "cell_type": "code",
      "source": [
        "# 4) Impute missing values\n",
        "# Numeric → mean (try median later if you like)\n",
        "num_imputer = SimpleImputer(strategy=\"mean\")\n",
        "X_train_num = pd.DataFrame(num_imputer.fit_transform(X_train[numeric_features]),\n",
        "                           columns=numeric_features, index=X_train.index)\n",
        "X_test_num  = pd.DataFrame(num_imputer.transform(X_test[numeric_features]),\n",
        "                           columns=numeric_features, index=X_test.index)\n",
        "\n",
        "# Categorical → most frequent\n",
        "cat_imputer = SimpleImputer(strategy=\"most_frequent\")\n",
        "X_train_cat_raw = pd.DataFrame(cat_imputer.fit_transform(X_train[categorical_features]),\n",
        "                               columns=categorical_features, index=X_train.index)\n",
        "X_test_cat_raw  = pd.DataFrame(cat_imputer.transform(X_test[categorical_features]),\n",
        "                               columns=categorical_features, index=X_test.index)\n"
      ],
      "metadata": {
        "id": "FMli46S0IFuQ"
      },
      "execution_count": 4,
      "outputs": []
    },
    {
      "cell_type": "markdown",
      "source": [
        "### Encode categoricals"
      ],
      "metadata": {
        "id": "CFuCQDKOITzT"
      }
    },
    {
      "cell_type": "code",
      "source": [
        "# 5) Encode categoricals\n",
        "# Label-encode ONE column ('sex'); one-hot the rest\n",
        "label_encode_col = \"sex\"\n",
        "\n",
        "# Copies\n",
        "X_train_processed = X_train_cat_raw.copy()\n",
        "X_test_processed  = X_test_cat_raw.copy()\n",
        "\n",
        "# LabelEncoder: fit on train, apply to test\n",
        "le = LabelEncoder()\n",
        "X_train_processed[label_encode_col] = le.fit_transform(X_train_processed[label_encode_col])\n",
        "X_test_processed[label_encode_col]  = le.transform(X_test_processed[label_encode_col])\n",
        "\n",
        "# One-hot all other categorical columns\n",
        "onehot_cols = [c for c in X_train_processed.columns if c != label_encode_col]\n",
        "\n",
        "# Version-safe: sparse_output (>=1.2) vs sparse (<1.2)\n",
        "try:\n",
        "    ohe = OneHotEncoder(handle_unknown=\"ignore\", sparse_output=False)\n",
        "except TypeError:\n",
        "    ohe = OneHotEncoder(handle_unknown=\"ignore\", sparse=False)\n",
        "\n",
        "X_train_ohe_array = ohe.fit_transform(X_train_processed[onehot_cols])\n",
        "X_test_ohe_array  = ohe.transform(X_test_processed[onehot_cols])\n",
        "\n",
        "ohe_feature_names = ohe.get_feature_names_out(onehot_cols)\n",
        "X_train_ohe = pd.DataFrame(X_train_ohe_array, columns=ohe_feature_names)\n",
        "X_test_ohe  = pd.DataFrame(X_test_ohe_array,  columns=ohe_feature_names)\n",
        "\n",
        "# Combine label-encoded + one-hot (reset indices for alignment)\n",
        "label_encoded_train = X_train_processed[[label_encode_col]].reset_index(drop=True)\n",
        "label_encoded_test  = X_test_processed[[label_encode_col]].reset_index(drop=True)\n",
        "X_train_cat = pd.concat([label_encoded_train, X_train_ohe.reset_index(drop=True)], axis=1)\n",
        "X_test_cat  = pd.concat([label_encoded_test,  X_test_ohe.reset_index(drop=True)],  axis=1)\n",
        "\n",
        "X_train_cat.shape, X_test_cat.shape\n"
      ],
      "metadata": {
        "colab": {
          "base_uri": "https://localhost:8080/"
        },
        "id": "5qFdLucQIW0z",
        "outputId": "9c26bc3e-df1f-4d43-e636-3b50b62d8fed"
      },
      "execution_count": 5,
      "outputs": [
        {
          "output_type": "execute_result",
          "data": {
            "text/plain": [
              "((39073, 71), (9769, 71))"
            ]
          },
          "metadata": {},
          "execution_count": 5
        }
      ]
    },
    {
      "cell_type": "markdown",
      "source": [
        "**Reflect:**  \n",
        "- When might **label encoding** be risky?  \n",
        "- Why is **one-hot** often safer for models like Logistic Regression or Neural Nets?\n"
      ],
      "metadata": {
        "id": "7WaPWu0jIiOo"
      }
    },
    {
      "cell_type": "markdown",
      "source": [
        "### Scale numeric features (practice)"
      ],
      "metadata": {
        "id": "-jXtk2ZPItIk"
      }
    },
    {
      "cell_type": "code",
      "source": [
        "# 6) Scale numeric features (practice—even if RF doesn’t need it)\n",
        "scaler = StandardScaler()\n",
        "X_train_num_scaled = pd.DataFrame(scaler.fit_transform(X_train_num), columns=numeric_features)\n",
        "X_test_num_scaled  = pd.DataFrame(scaler.transform(X_test_num),   columns=numeric_features)\n",
        "\n",
        "# Assemble final matrices (reset indices to align rows)\n",
        "X_train_final = pd.concat([X_train_num_scaled.reset_index(drop=True),\n",
        "                           X_train_cat.reset_index(drop=True)], axis=1)\n",
        "X_test_final  = pd.concat([X_test_num_scaled.reset_index(drop=True),\n",
        "                           X_test_cat.reset_index(drop=True)],  axis=1)\n",
        "\n",
        "X_train_final.shape, X_test_final.shape\n"
      ],
      "metadata": {
        "colab": {
          "base_uri": "https://localhost:8080/"
        },
        "id": "kU1XGWMlIoe7",
        "outputId": "10fbb393-0e0b-4070-b713-86c877bf58cd"
      },
      "execution_count": 6,
      "outputs": [
        {
          "output_type": "execute_result",
          "data": {
            "text/plain": [
              "((39073, 76), (9769, 76))"
            ]
          },
          "metadata": {},
          "execution_count": 6
        }
      ]
    },
    {
      "cell_type": "markdown",
      "source": [
        "**When would you prefer**:\n",
        "- `MinMaxScaler` ?\n",
        "- `RobustScaler` ?\n"
      ],
      "metadata": {
        "id": "vzO9iUMfJyiE"
      }
    },
    {
      "cell_type": "markdown",
      "source": [
        "### Train RF + Evaluate"
      ],
      "metadata": {
        "id": "zXu_WfCTJ5fI"
      }
    },
    {
      "cell_type": "code",
      "source": [
        "# 7) Train a baseline Random Forest\n",
        "rf = RandomForestClassifier(n_estimators=100, random_state=42)\n",
        "rf.fit(X_train_final, y_train)\n",
        "\n",
        "y_pred = rf.predict(X_test_final)\n",
        "print(classification_report(y_test, y_pred))\n",
        "\n",
        "cm = confusion_matrix(y_test, y_pred, labels=rf.classes_)\n",
        "sns.heatmap(pd.DataFrame(cm, index=[f\"true_{c}\" for c in rf.classes_],\n",
        "                            columns=[f\"pred_{c}\" for c in rf.classes_]),\n",
        "            annot=True, fmt=\"d\", cmap=\"Blues\")\n",
        "plt.show()\n"
      ],
      "metadata": {
        "id": "NrrkQWV1J9Nz"
      },
      "execution_count": null,
      "outputs": []
    },
    {
      "cell_type": "markdown",
      "source": [
        "### Deep dive: RF Object"
      ],
      "metadata": {
        "id": "Ylz6u_gJKHE4"
      }
    },
    {
      "cell_type": "code",
      "source": [
        "# 8) Inspect the RF object: attributes & methods\n",
        "print(\"Number of trees:\", rf.n_estimators)\n",
        "print(\"Classes:\", rf.classes_)\n",
        "print(\"Max depth setting:\", rf.max_depth)\n",
        "\n",
        "# Feature importances (top 10)\n",
        "importances = pd.Series(rf.feature_importances_, index=X_train_final.columns).sort_values(ascending=False)\n",
        "importances.head(10)\n"
      ],
      "metadata": {
        "colab": {
          "base_uri": "https://localhost:8080/",
          "height": 451
        },
        "id": "AbIhhT1_KMiR",
        "outputId": "4882686f-773a-4dfe-b03c-8996831b4b60"
      },
      "execution_count": 8,
      "outputs": [
        {
          "output_type": "stream",
          "name": "stdout",
          "text": [
            "Number of trees: 100\n",
            "Classes: ['<=50K' '>50K']\n",
            "Max depth setting: None\n"
          ]
        },
        {
          "output_type": "execute_result",
          "data": {
            "text/plain": [
              "age                                  0.250227\n",
              "education-num                        0.136151\n",
              "hours-per-week                       0.124182\n",
              "capital-gain                         0.115856\n",
              "marital-status_Married-civ-spouse    0.112690\n",
              "capital-loss                         0.041463\n",
              "marital-status_Never-married         0.036695\n",
              "sex                                  0.021219\n",
              "occupation_Exec-managerial           0.019455\n",
              "marital-status_Divorced              0.011493\n",
              "dtype: float64"
            ],
            "text/html": [
              "<div>\n",
              "<style scoped>\n",
              "    .dataframe tbody tr th:only-of-type {\n",
              "        vertical-align: middle;\n",
              "    }\n",
              "\n",
              "    .dataframe tbody tr th {\n",
              "        vertical-align: top;\n",
              "    }\n",
              "\n",
              "    .dataframe thead th {\n",
              "        text-align: right;\n",
              "    }\n",
              "</style>\n",
              "<table border=\"1\" class=\"dataframe\">\n",
              "  <thead>\n",
              "    <tr style=\"text-align: right;\">\n",
              "      <th></th>\n",
              "      <th>0</th>\n",
              "    </tr>\n",
              "  </thead>\n",
              "  <tbody>\n",
              "    <tr>\n",
              "      <th>age</th>\n",
              "      <td>0.250227</td>\n",
              "    </tr>\n",
              "    <tr>\n",
              "      <th>education-num</th>\n",
              "      <td>0.136151</td>\n",
              "    </tr>\n",
              "    <tr>\n",
              "      <th>hours-per-week</th>\n",
              "      <td>0.124182</td>\n",
              "    </tr>\n",
              "    <tr>\n",
              "      <th>capital-gain</th>\n",
              "      <td>0.115856</td>\n",
              "    </tr>\n",
              "    <tr>\n",
              "      <th>marital-status_Married-civ-spouse</th>\n",
              "      <td>0.112690</td>\n",
              "    </tr>\n",
              "    <tr>\n",
              "      <th>capital-loss</th>\n",
              "      <td>0.041463</td>\n",
              "    </tr>\n",
              "    <tr>\n",
              "      <th>marital-status_Never-married</th>\n",
              "      <td>0.036695</td>\n",
              "    </tr>\n",
              "    <tr>\n",
              "      <th>sex</th>\n",
              "      <td>0.021219</td>\n",
              "    </tr>\n",
              "    <tr>\n",
              "      <th>occupation_Exec-managerial</th>\n",
              "      <td>0.019455</td>\n",
              "    </tr>\n",
              "    <tr>\n",
              "      <th>marital-status_Divorced</th>\n",
              "      <td>0.011493</td>\n",
              "    </tr>\n",
              "  </tbody>\n",
              "</table>\n",
              "</div><br><label><b>dtype:</b> float64</label>"
            ]
          },
          "metadata": {},
          "execution_count": 8
        }
      ]
    },
    {
      "cell_type": "code",
      "source": [
        "# Predict vs predict_proba\n",
        "pred_label = rf.predict(X_test_final[:5])\n",
        "pred_prob  = rf.predict_proba(X_test_final[:5])\n",
        "pred_label, pred_prob\n"
      ],
      "metadata": {
        "colab": {
          "base_uri": "https://localhost:8080/"
        },
        "id": "3IC-IU79KZ3S",
        "outputId": "fa1a8a86-e84d-4b39-da88-434c622ef5a1"
      },
      "execution_count": 9,
      "outputs": [
        {
          "output_type": "execute_result",
          "data": {
            "text/plain": [
              "(array(['>50K', '<=50K', '>50K', '<=50K', '>50K'], dtype=object),\n",
              " array([[0.44, 0.56],\n",
              "        [1.  , 0.  ],\n",
              "        [0.34, 0.66],\n",
              "        [0.88, 0.12],\n",
              "        [0.35, 0.65]]))"
            ]
          },
          "metadata": {},
          "execution_count": 9
        }
      ]
    },
    {
      "cell_type": "markdown",
      "source": [
        "**Explain in your own words:**  \n",
        "- What’s the difference between `predict` and `predict_proba`?  \n",
        "- Which would you show in an app UI, and why?\n"
      ],
      "metadata": {
        "id": "68Ks5JhwKlLI"
      }
    },
    {
      "cell_type": "markdown",
      "source": [
        "### Tinkering with Hyperparameters"
      ],
      "metadata": {
        "id": "wpocxi6lKrDu"
      }
    },
    {
      "cell_type": "code",
      "source": [
        "# 9) Tinker: try one change, re-run report, log in experiment_log.md\n",
        "rf2 = RandomForestClassifier(\n",
        "    n_estimators=200,   # try 50 / 100 / 200\n",
        "    max_depth=None,     # try 10 / 20 / None\n",
        "    min_samples_split=2,  # try 2 / 5\n",
        "    random_state=42\n",
        ")\n",
        "rf2.fit(X_train_final, y_train)\n",
        "print(classification_report(y_test, rf2.predict(X_test_final)))\n"
      ],
      "metadata": {
        "colab": {
          "base_uri": "https://localhost:8080/"
        },
        "id": "E0lX_r_jKzsH",
        "outputId": "dcecd9fd-46d5-4bb7-be92-0def0da5f8bf"
      },
      "execution_count": 10,
      "outputs": [
        {
          "output_type": "stream",
          "name": "stdout",
          "text": [
            "              precision    recall  f1-score   support\n",
            "\n",
            "       <=50K       0.88      0.93      0.90      7431\n",
            "        >50K       0.72      0.61      0.66      2338\n",
            "\n",
            "    accuracy                           0.85      9769\n",
            "   macro avg       0.80      0.77      0.78      9769\n",
            "weighted avg       0.84      0.85      0.85      9769\n",
            "\n"
          ]
        }
      ]
    },
    {
      "cell_type": "markdown",
      "source": [
        "### GridSearchCV"
      ],
      "metadata": {
        "id": "A3mDYVwRLIft"
      }
    },
    {
      "cell_type": "code",
      "source": [
        "# 10)\n",
        "from sklearn.model_selection import GridSearchCV\n",
        "\n",
        "param_grid = {\n",
        "    \"n_estimators\": [50, 100],\n",
        "    \"max_depth\": [None, 10, 20],\n",
        "}\n",
        "grid = GridSearchCV(RandomForestClassifier(random_state=42),\n",
        "                    param_grid, cv=3, scoring=\"accuracy\", n_jobs=-1)\n",
        "grid.fit(X_train_final, y_train)\n",
        "\n",
        "print(\"Best params:\", grid.best_params_)\n",
        "print(\"Best CV accuracy:\", round(grid.best_score_, 4))\n",
        "print(\"Test accuracy with best params:\", round(grid.best_estimator_.score(X_test_final, y_test), 4))\n"
      ],
      "metadata": {
        "colab": {
          "base_uri": "https://localhost:8080/"
        },
        "id": "4JhC3gCwLHVe",
        "outputId": "8785775e-3cd0-4f52-cce9-d8eb6d69a505"
      },
      "execution_count": 11,
      "outputs": [
        {
          "output_type": "stream",
          "name": "stdout",
          "text": [
            "Best params: {'max_depth': 20, 'n_estimators': 100}\n",
            "Best CV accuracy: 0.863\n",
            "Test accuracy with best params: 0.8679\n"
          ]
        }
      ]
    },
    {
      "cell_type": "markdown",
      "source": [
        "# 🏠 Homework: GridSearchCV vs RandomizedSearchCV\n",
        "\n",
        "Today we used **GridSearchCV** to systematically test a small parameter grid.  \n",
        "But GridSearch gets expensive if the parameter space is large.  \n",
        "An alternative is **RandomizedSearchCV**: it samples combinations at random.\n",
        "\n",
        "**Task:**  \n",
        "1. Run the provided code that compares GridSearchCV and RandomizedSearchCV.  \n",
        "2. Note which one is faster, and whether they found similar/better hyperparameters.  \n",
        "3. Add your reflection in `students/experiment_log.md` under \"Run 2\".\n"
      ],
      "metadata": {
        "id": "d-Tm5BGQMkSq"
      }
    },
    {
      "cell_type": "markdown",
      "source": [],
      "metadata": {
        "id": "n0JB2FXnMkEY"
      }
    },
    {
      "cell_type": "code",
      "source": [
        "from sklearn.model_selection import RandomizedSearchCV\n",
        "from scipy.stats import randint\n",
        "\n",
        "# Define parameter distributions for RandomizedSearch\n",
        "param_dist = {\n",
        "    \"n_estimators\": randint(50, 300),\n",
        "    \"max_depth\": [None, 10, 20, 30],\n",
        "    \"min_samples_split\": randint(2, 10)\n",
        "}\n",
        "\n",
        "# GridSearch (small grid)\n",
        "param_grid = {\n",
        "    \"n_estimators\": [50, 100, 200],\n",
        "    \"max_depth\": [None, 10, 20],\n",
        "}\n",
        "\n",
        "grid = GridSearchCV(RandomForestClassifier(random_state=42),\n",
        "                    param_grid, cv=3, scoring=\"accuracy\", n_jobs=-1)\n",
        "\n",
        "random_search = RandomizedSearchCV(RandomForestClassifier(random_state=42),\n",
        "                                   param_dist, n_iter=10, cv=3,\n",
        "                                   scoring=\"accuracy\", n_jobs=-1,\n",
        "                                   random_state=42)\n",
        "\n",
        "print(\"Running GridSearchCV...\")\n",
        "grid.fit(X_train_final, y_train)\n",
        "\n",
        "print(\"Running RandomizedSearchCV...\")\n",
        "random_search.fit(X_train_final, y_train)\n",
        "\n",
        "print(\"Best params (GridSearch):\", grid.best_params_)\n",
        "print(\"Best score (GridSearch):\", round(grid.best_score_, 4))\n",
        "\n",
        "print(\"Best params (RandomizedSearch):\", random_search.best_params_)\n",
        "print(\"Best score (RandomizedSearch):\", round(random_search.best_score_, 4))\n"
      ],
      "metadata": {
        "id": "qeSuqgjPMo2J",
        "colab": {
          "base_uri": "https://localhost:8080/"
        },
        "outputId": "91131f4a-d008-44bf-80fc-af42e9cb9021"
      },
      "execution_count": 12,
      "outputs": [
        {
          "output_type": "stream",
          "name": "stdout",
          "text": [
            "Running GridSearchCV...\n",
            "Running RandomizedSearchCV...\n",
            "Best params (GridSearch): {'max_depth': 20, 'n_estimators': 100}\n",
            "Best score (GridSearch): 0.863\n",
            "Best params (RandomizedSearch): {'max_depth': 20, 'min_samples_split': 4, 'n_estimators': 121}\n",
            "Best score (RandomizedSearch): 0.864\n"
          ]
        }
      ]
    },
    {
      "cell_type": "markdown",
      "source": [
        "## Reflection Questions\n",
        "- Which method finished faster? Why?  \n",
        "- Did they find similar or different best parameters?  \n",
        "- When would you choose GridSearchCV vs RandomizedSearchCV in practice?  \n"
      ],
      "metadata": {
        "id": "JXhJMbowMvCe"
      }
    },
    {
      "cell_type": "markdown",
      "source": [
        "# 🎛️ Turn Your Random Forest Into a Gradio App\n",
        "\n",
        "**Goal:** Wrap our already-trained Random Forest (RF) into a tiny web app so anyone can try inputs and see predictions (and confidence).\n",
        "\n",
        "**What you should already have (from the earlier notebook):**\n",
        "- A trained `rf` model.\n",
        "- Preprocessing objects: `num_imputer`, `cat_imputer`, `le` (LabelEncoder for `\"sex\"`), `ohe`, `scaler`.\n",
        "- Feature lists: `numeric_features`, `label_encode_col = \"sex\"`, `onehot_cols`.\n",
        "- The final training matrix `X_train_final` (so we can keep the exact column order).\n",
        "\n",
        "> If you get “name is not defined” errors later, scroll up and re-run the cells that define/train these.\n",
        "\n",
        "\n",
        "\n"
      ],
      "metadata": {
        "id": "fHuKBny0Sdxw"
      }
    },
    {
      "cell_type": "markdown",
      "source": [
        "---\n",
        "\n",
        "## Step 1 — Lock in the feature order\n",
        "We must feed the app’s processed row to the model in the **exact** column order used during training.\n",
        "\n",
        "**Action:** Create `feature_order = list(X_train_final.columns)` in a code cell.\n",
        "\n",
        "**Why:** Prevents misalignment (wrong columns → wrong predictions).\n",
        "\n"
      ],
      "metadata": {
        "id": "RJl9rl_bVELG"
      }
    },
    {
      "cell_type": "code",
      "source": [
        "feature_order = list(X_train_final.columns)  # numeric (scaled) + categorical block\n"
      ],
      "metadata": {
        "id": "XoFR7LvSVVFf"
      },
      "execution_count": 13,
      "outputs": []
    },
    {
      "cell_type": "code",
      "source": [
        "feature_order"
      ],
      "metadata": {
        "colab": {
          "base_uri": "https://localhost:8080/"
        },
        "id": "pLPWnpWHZhNP",
        "outputId": "9caaeb26-e053-4633-fa42-745e6a9075ae"
      },
      "execution_count": 14,
      "outputs": [
        {
          "output_type": "execute_result",
          "data": {
            "text/plain": [
              "['age',\n",
              " 'hours-per-week',\n",
              " 'education-num',\n",
              " 'capital-gain',\n",
              " 'capital-loss',\n",
              " 'sex',\n",
              " 'workclass_Federal-gov',\n",
              " 'workclass_Local-gov',\n",
              " 'workclass_Never-worked',\n",
              " 'workclass_Private',\n",
              " 'workclass_Self-emp-inc',\n",
              " 'workclass_Self-emp-not-inc',\n",
              " 'workclass_State-gov',\n",
              " 'workclass_Without-pay',\n",
              " 'marital-status_Divorced',\n",
              " 'marital-status_Married-AF-spouse',\n",
              " 'marital-status_Married-civ-spouse',\n",
              " 'marital-status_Married-spouse-absent',\n",
              " 'marital-status_Never-married',\n",
              " 'marital-status_Separated',\n",
              " 'marital-status_Widowed',\n",
              " 'occupation_Adm-clerical',\n",
              " 'occupation_Armed-Forces',\n",
              " 'occupation_Craft-repair',\n",
              " 'occupation_Exec-managerial',\n",
              " 'occupation_Farming-fishing',\n",
              " 'occupation_Handlers-cleaners',\n",
              " 'occupation_Machine-op-inspct',\n",
              " 'occupation_Other-service',\n",
              " 'occupation_Priv-house-serv',\n",
              " 'occupation_Prof-specialty',\n",
              " 'occupation_Protective-serv',\n",
              " 'occupation_Sales',\n",
              " 'occupation_Tech-support',\n",
              " 'occupation_Transport-moving',\n",
              " 'native-country_Cambodia',\n",
              " 'native-country_Canada',\n",
              " 'native-country_China',\n",
              " 'native-country_Columbia',\n",
              " 'native-country_Cuba',\n",
              " 'native-country_Dominican-Republic',\n",
              " 'native-country_Ecuador',\n",
              " 'native-country_El-Salvador',\n",
              " 'native-country_England',\n",
              " 'native-country_France',\n",
              " 'native-country_Germany',\n",
              " 'native-country_Greece',\n",
              " 'native-country_Guatemala',\n",
              " 'native-country_Haiti',\n",
              " 'native-country_Holand-Netherlands',\n",
              " 'native-country_Honduras',\n",
              " 'native-country_Hong',\n",
              " 'native-country_Hungary',\n",
              " 'native-country_India',\n",
              " 'native-country_Iran',\n",
              " 'native-country_Ireland',\n",
              " 'native-country_Italy',\n",
              " 'native-country_Jamaica',\n",
              " 'native-country_Japan',\n",
              " 'native-country_Laos',\n",
              " 'native-country_Mexico',\n",
              " 'native-country_Nicaragua',\n",
              " 'native-country_Outlying-US(Guam-USVI-etc)',\n",
              " 'native-country_Peru',\n",
              " 'native-country_Philippines',\n",
              " 'native-country_Poland',\n",
              " 'native-country_Portugal',\n",
              " 'native-country_Puerto-Rico',\n",
              " 'native-country_Scotland',\n",
              " 'native-country_South',\n",
              " 'native-country_Taiwan',\n",
              " 'native-country_Thailand',\n",
              " 'native-country_Trinadad&Tobago',\n",
              " 'native-country_United-States',\n",
              " 'native-country_Vietnam',\n",
              " 'native-country_Yugoslavia']"
            ]
          },
          "metadata": {},
          "execution_count": 14
        }
      ]
    },
    {
      "cell_type": "markdown",
      "source": [
        "---\n",
        "\n",
        "## Step 2 — Install & import Gradio\n",
        "We’ll use Gradio to make a small UI with sliders/dropdowns.\n",
        "\n",
        "**Action:**  \n",
        "- `!pip -q install gradio`  \n",
        "- `import gradio as gr` (+ `pandas`, `numpy` if needed)\n",
        "\n",
        "**Why:** Gradio handles the interface so we focus on ML logic.\n",
        "\n"
      ],
      "metadata": {
        "id": "8ajdBeHkVVgh"
      }
    },
    {
      "cell_type": "code",
      "source": [
        "!pip -q install gradio\n",
        "import gradio as gr\n",
        "#import pandas as pd\n",
        "#import numpy as np\n"
      ],
      "metadata": {
        "id": "NxkOnuklVmwB"
      },
      "execution_count": 15,
      "outputs": []
    },
    {
      "cell_type": "markdown",
      "source": [
        "---\n",
        "\n",
        "## Step 3 — Write a `preprocess_input(user_dict)` helper\n",
        "This function should:\n",
        "1. Build a one-row `DataFrame` from the raw UI inputs.\n",
        "2. **Numeric**: impute with `num_imputer` → scale with `scaler`.\n",
        "3. **Categorical**: impute with `cat_imputer` → label-encode the `\"sex\"` column with `le` → one-hot the rest with `ohe`.\n",
        "4. Concatenate numeric + categorical.\n",
        "5. Add any missing columns (fill with 0) and **reorder** using `feature_order`.\n",
        "6. Return a 1-row `DataFrame` ready for `rf.predict` / `rf.predict_proba`.\n",
        "\n",
        "**Why:** The app must apply **the same preprocessing** as training, learned on the train split only.\n",
        "\n"
      ],
      "metadata": {
        "id": "yh97mEN4VoSf"
      }
    },
    {
      "cell_type": "code",
      "source": [
        "def preprocess_input(user_dict):\n",
        "    \"\"\"\n",
        "    Apply the SAME transforms as train-time to a single-row user_dict and\n",
        "    return a 1-row DataFrame with columns exactly matching feature_order.\n",
        "    \"\"\"\n",
        "    # 1) Raw one-row frame\n",
        "    df_in = pd.DataFrame([user_dict])\n",
        "\n",
        "    # 2) Numeric -> impute -> scale\n",
        "    Xn = pd.DataFrame(num_imputer.transform(df_in[numeric_features]),\n",
        "                      columns=numeric_features)\n",
        "    Xn_scaled = pd.DataFrame(scaler.transform(Xn), columns=numeric_features)\n",
        "\n",
        "    # 3) Categorical -> impute -> label-encode ONE col -> one-hot the rest\n",
        "    df_cat = df_in[categorical_features].copy()\n",
        "    df_cat = pd.DataFrame(cat_imputer.transform(df_cat),\n",
        "                          columns= categorical_features)\n",
        "\n",
        "    # Label-encode the chosen column (assumes no unseen categories)\n",
        "    df_cat[label_encode_col] = le.transform(df_cat[label_encode_col])\n",
        "\n",
        "\n",
        "    # one-hot the remaining categoricals (trained with handle_unknown=\"ignore\")\n",
        "    Xc_ohe = pd.DataFrame(\n",
        "        ohe.transform(df_cat[onehot_cols]),\n",
        "        columns=ohe.get_feature_names_out(onehot_cols)\n",
        "    )\n",
        "\n",
        "    # final categorical block = label-encoded col + one-hot block\n",
        "    Xc_final = pd.concat(\n",
        "        [df_cat[[label_encode_col]].reset_index(drop=True),\n",
        "         Xc_ohe.reset_index(drop=True)],\n",
        "        axis=1\n",
        "    )\n",
        "\n",
        "    # 4) Assemble numeric + categorical\n",
        "    X_final = pd.concat(\n",
        "        [Xn_scaled.reset_index(drop=True), Xc_final.reset_index(drop=True)],\n",
        "        axis=1\n",
        "    )\n",
        "\n",
        "    # 5) Enforce EXACT training columns & order in ONE step\n",
        "    # - drops any extra columns\n",
        "    # - inserts any missing one-hot columns filled with 0\n",
        "    #X_final = X_final.reindex(columns=feature_order, fill_value=0)\n",
        "    # at end of preprocess_input\n",
        "    expected_cols = list(getattr(rf, \"feature_names_in_\", feature_order))\n",
        "    #made it feature order instead of expected_cols\n",
        "    X_final = X_final.reindex(columns=feature_order, fill_value=0)\n",
        "    return X_final\n",
        "\n",
        "\n",
        "    #return X_final\n"
      ],
      "metadata": {
        "id": "VispYLHnVuvh"
      },
      "execution_count": 16,
      "outputs": []
    },
    {
      "cell_type": "markdown",
      "source": [
        "---\n",
        "\n",
        "## Step 4 — Write the `predict(...)` function\n",
        "Keep the UI compact (start with 5 inputs). Good defaults for the rest are fine.\n",
        "\n",
        "**Inputs to expose (suggested):**\n",
        "- `age` (slider)\n",
        "- `hours_per_week` (slider)\n",
        "- `education_num` (slider)\n",
        "- `sex` (radio from training categories)\n",
        "- `workclass` (dropdown from training categories)\n",
        "\n",
        "**Inside `predict`:**\n",
        "- Build a `raw` dict from those inputs (plus reasonable defaults for other features).\n",
        "- Call `preprocess_input(raw)` → `Xf`.\n",
        "- Use `rf.predict(Xf)` for the label.\n",
        "- If available, use `rf.predict_proba(Xf)` and show **P(>50K)**.\n",
        "\n",
        "**Why:** Labels are decisive; probabilities show **confidence** and open the door to threshold choices.\n",
        "\n"
      ],
      "metadata": {
        "id": "NrdRsVt0VvT6"
      }
    },
    {
      "cell_type": "code",
      "source": [
        "# Simple prediction function returning label + probability of >50K if available\n",
        "def predict(age, hours_per_week, education_num, sex, workclass, marital_status, occupation, native_country):\n",
        "    raw = {\n",
        "        \"age\": age,\n",
        "        \"hours-per-week\": hours_per_week,\n",
        "        \"education-num\": education_num,\n",
        "        \"sex\": sex,               # label-encoded column\n",
        "        \"workclass\": workclass,   # one-hot\n",
        "        # Defaults for demo (you can expose these later in the UI)\n",
        "        \"marital-status\": marital_status,\n",
        "        \"occupation\": occupation,\n",
        "        \"native-country\": native_country,\n",
        "        \"capital-gain\": 0,\n",
        "        \"capital-loss\": 0,\n",
        "    }\n",
        "    Xf = preprocess_input(raw)\n",
        "    label = rf.predict(Xf)[0]\n",
        "    out = f\"Prediction: {label}\"\n",
        "    if hasattr(rf, \"predict_proba\"):\n",
        "        classes = list(rf.classes_)\n",
        "        proba = rf.predict_proba(Xf)[0]\n",
        "        # Show the probability of >50K if that class exists\n",
        "        if \">50K\" in classes:\n",
        "            p = proba[classes.index(\">50K\")]\n",
        "            out += f\"  |  P(>50K) = {p:.2f}\"\n",
        "    return out\n"
      ],
      "metadata": {
        "id": "2L5CpVF2V7-V"
      },
      "execution_count": 24,
      "outputs": []
    },
    {
      "cell_type": "markdown",
      "source": [
        "---\n",
        "\n",
        "## Step 5 — Build the UI and launch\n",
        "- Pull choices for `sex` and `workclass` from the **training data** (so no unseen categories).\n",
        "- Create a `gr.Interface(fn=predict, inputs=[...], outputs=\"text\")`.\n",
        "- Call `demo.launch(share=True)` (use `share=False` if tunnels are blocked).\n",
        "\n",
        "\n"
      ],
      "metadata": {
        "id": "OUQnShGAV9Of"
      }
    },
    {
      "cell_type": "code",
      "source": [
        "# Use categories from your training set (already imputed)\n",
        "marital_status_choices = sorted(pd.unique(X_train[\"marital-status\"].dropna()))\n",
        "occupation_choices = sorted(pd.unique(X_train[\"occupation\"].dropna()))\n",
        "native_country_choices = sorted(pd.unique(X_train[\"native-country\"].dropna()))\n",
        "workclass_choices = sorted(pd.unique(X_train[\"workclass\"].dropna()))\n",
        "sex_choices = sorted(pd.unique(X_train[\"sex\"].dropna()))\n",
        "\n",
        "def get_feature_importance():\n",
        "    \"\"\"Returns a DataFrame with the top 10 most important features.\"\"\"\n",
        "    importances = pd.Series(rf.feature_importances_, index=X_train_final.columns).sort_values(ascending=False).head(10)\n",
        "    return pd.DataFrame(importances, columns=[\"Importance\"])\n",
        "\n",
        "demo = gr.Interface(\n",
        "    fn=predict,\n",
        "    inputs=[\n",
        "        gr.Slider(17, 90, value=37, step=1, label=\"age\"),\n",
        "        gr.Slider(1, 80, value=40, step=1, label=\"hours_per_week\"),\n",
        "        gr.Slider(1, 16, value=10, step=1, label=\"education_num\"),\n",
        "        gr.Radio(list(sex_choices), label=\"sex\"),\n",
        "        gr.Dropdown(list(workclass_choices), label=\"workclass\"),\n",
        "        gr.Dropdown(list(marital_status_choices), label=\"marital_status\"),\n",
        "        gr.Dropdown(list(occupation_choices), label=\"occupation\"),\n",
        "        gr.Dropdown(list(native_country_choices), label=\"native_country\"),\n",
        "        gr.Interface(fn=predict, inputs=[...], outputs=\"text\")\n",
        "    ],\n",
        "    gr.Tab(\"Feature Importance\"):\n",
        "        gr.Interface(\n",
        "            fn=get_feature_importance,\n",
        "            inputs=[],\n",
        "            outputs=\"dataframe\",\n",
        "            title=\"Top 10 Feature Importances\",\n",
        "            description=\"Shows the top 10 features based on the trained Random Forest model.\"\n",
        "        )\n",
        "\n",
        "    outputs=gr.Textbox(label=\"Model Output\"),\n",
        "    title=\"Income Classifier (Random Forest)\",\n",
        "    description=\"Baseline RF wrapped as a Gradio app. Shows label and P(>50K).\"\n",
        ")\n",
        "\n",
        "demo.launch(share=True, show_error=True)  # use share=False if school network blocks external tunnels\n"
      ],
      "metadata": {
        "colab": {
          "base_uri": "https://localhost:8080/",
          "height": 108
        },
        "id": "yN_wvjzIWVzu",
        "outputId": "bc9bff0c-38c9-4526-b951-31e1b8a0ce2e"
      },
      "execution_count": 35,
      "outputs": [
        {
          "output_type": "error",
          "ename": "SyntaxError",
          "evalue": "invalid syntax (ipython-input-1471296439.py, line 26)",
          "traceback": [
            "\u001b[0;36m  File \u001b[0;32m\"/tmp/ipython-input-1471296439.py\"\u001b[0;36m, line \u001b[0;32m26\u001b[0m\n\u001b[0;31m    with gr.Tab(\"Feature Importance\"):\u001b[0m\n\u001b[0m    ^\u001b[0m\n\u001b[0;31mSyntaxError\u001b[0m\u001b[0;31m:\u001b[0m invalid syntax\n"
          ]
        }
      ]
    },
    {
      "cell_type": "code",
      "source": [],
      "metadata": {
        "id": "pFqVTfPSJk1r"
      },
      "execution_count": 30,
      "outputs": []
    },
    {
      "cell_type": "markdown",
      "source": [
        "---\n",
        "\n",
        "## 🌟 Stretch Challenge (pick one)\n",
        "\n",
        "### A) Add more inputs\n",
        "Expose `marital-status` and/or `occupation` in the UI. Update `predict` to pass them through `preprocess_input`.\n",
        "\n",
        "**Hint:** Keep categorical choices from the training set to avoid unseen-label errors.\n",
        "\n",
        "---\n",
        "\n",
        "### B) Show **feature importance** (top-k)\n",
        "After training, RF has `rf.feature_importances_`. Let users click a button to see the **top 10 features** your model relied on.\n",
        "\n",
        "**How:**\n",
        "- Create a small function that returns a table or text of the top-k from:\n",
        "  - `pd.Series(rf.feature_importances_, index=X_train_final.columns).sort_values(ascending=False).head(10)`\n",
        "\n",
        "**Optional UI idea:**\n",
        "- Add a secondary `gr.Interface` or a `gr.Tab` / `gr.Accordion` that calls this function (e.g., `outputs=\"dataframe\"` or text).\n",
        "- Ask: *Does importance change if you retrain with different hyperparameters?*\n",
        "\n",
        "> Note: RF importances are heuristic; they’re useful for discussion, not a complete story (advanced: SHAP later).\n",
        "\n",
        "---\n",
        "\n",
        "### C) Precision vs Recall slider (advanced)\n",
        "Let the user pick a **threshold** for classifying `>50K` using `predict_proba`. Show how higher thresholds **increase precision** but **decrease recall**.\n",
        "\n",
        "**How:**\n",
        "- Add a slider 0.0–1.0 (“Decision Threshold for >50K”).\n",
        "- If `P(>50K) ≥ threshold` → predict `>50K`, else `<=50K`.\n",
        "\n",
        "**Discuss:** When would you prefer high precision vs high recall in a real app?\n",
        "\n",
        "---\n",
        "\n",
        "## Troubleshooting Tips\n",
        "- **“unseen label” errors**: Make sure UI choices (e.g., `sex`, `workclass`) come from training categories.  \n",
        "- **Wrong feature order**: Always reorder with `feature_order` before predicting.  \n",
        "- **Variables not defined**: Re-run training/preprocessing cells above or import from your previous notebook.\n",
        "\n",
        "---\n",
        "\n",
        "### Exit Ticket (today)\n",
        "- Launch your app and test 3 scenarios.\n",
        "- Paste one app screenshot + a 2–3 sentence reflection in `students/experiment_log.md`."
      ],
      "metadata": {
        "id": "Z8xbiUF1WhMr"
      }
    },
    {
      "cell_type": "code",
      "source": [
        "pd.Series(rf.feature_importances_, index=X_train_final.columns).sort_values(ascending=False).head(10)"
      ],
      "metadata": {
        "colab": {
          "base_uri": "https://localhost:8080/",
          "height": 398
        },
        "id": "VACRMfjSIs0z",
        "outputId": "cfa604f9-e83c-429c-cc23-87f0624f5e71"
      },
      "execution_count": 27,
      "outputs": [
        {
          "output_type": "execute_result",
          "data": {
            "text/plain": [
              "age                                  0.250227\n",
              "education-num                        0.136151\n",
              "hours-per-week                       0.124182\n",
              "capital-gain                         0.115856\n",
              "marital-status_Married-civ-spouse    0.112690\n",
              "capital-loss                         0.041463\n",
              "marital-status_Never-married         0.036695\n",
              "sex                                  0.021219\n",
              "occupation_Exec-managerial           0.019455\n",
              "marital-status_Divorced              0.011493\n",
              "dtype: float64"
            ],
            "text/html": [
              "<div>\n",
              "<style scoped>\n",
              "    .dataframe tbody tr th:only-of-type {\n",
              "        vertical-align: middle;\n",
              "    }\n",
              "\n",
              "    .dataframe tbody tr th {\n",
              "        vertical-align: top;\n",
              "    }\n",
              "\n",
              "    .dataframe thead th {\n",
              "        text-align: right;\n",
              "    }\n",
              "</style>\n",
              "<table border=\"1\" class=\"dataframe\">\n",
              "  <thead>\n",
              "    <tr style=\"text-align: right;\">\n",
              "      <th></th>\n",
              "      <th>0</th>\n",
              "    </tr>\n",
              "  </thead>\n",
              "  <tbody>\n",
              "    <tr>\n",
              "      <th>age</th>\n",
              "      <td>0.250227</td>\n",
              "    </tr>\n",
              "    <tr>\n",
              "      <th>education-num</th>\n",
              "      <td>0.136151</td>\n",
              "    </tr>\n",
              "    <tr>\n",
              "      <th>hours-per-week</th>\n",
              "      <td>0.124182</td>\n",
              "    </tr>\n",
              "    <tr>\n",
              "      <th>capital-gain</th>\n",
              "      <td>0.115856</td>\n",
              "    </tr>\n",
              "    <tr>\n",
              "      <th>marital-status_Married-civ-spouse</th>\n",
              "      <td>0.112690</td>\n",
              "    </tr>\n",
              "    <tr>\n",
              "      <th>capital-loss</th>\n",
              "      <td>0.041463</td>\n",
              "    </tr>\n",
              "    <tr>\n",
              "      <th>marital-status_Never-married</th>\n",
              "      <td>0.036695</td>\n",
              "    </tr>\n",
              "    <tr>\n",
              "      <th>sex</th>\n",
              "      <td>0.021219</td>\n",
              "    </tr>\n",
              "    <tr>\n",
              "      <th>occupation_Exec-managerial</th>\n",
              "      <td>0.019455</td>\n",
              "    </tr>\n",
              "    <tr>\n",
              "      <th>marital-status_Divorced</th>\n",
              "      <td>0.011493</td>\n",
              "    </tr>\n",
              "  </tbody>\n",
              "</table>\n",
              "</div><br><label><b>dtype:</b> float64</label>"
            ]
          },
          "metadata": {},
          "execution_count": 27
        }
      ]
    },
    {
      "cell_type": "code",
      "source": [
        "rf.feature_importances_"
      ],
      "metadata": {
        "colab": {
          "base_uri": "https://localhost:8080/"
        },
        "id": "WSRo7nOZIoSt",
        "outputId": "f1c6424c-c902-41bb-8259-e99c1a5685af"
      },
      "execution_count": 26,
      "outputs": [
        {
          "output_type": "execute_result",
          "data": {
            "text/plain": [
              "array([2.50226837e-01, 1.24182020e-01, 1.36150650e-01, 1.15855830e-01,\n",
              "       4.14626133e-02, 2.12187062e-02, 4.89159350e-03, 4.79015164e-03,\n",
              "       1.96694015e-05, 9.49884469e-03, 6.78181910e-03, 7.40412867e-03,\n",
              "       3.79101184e-03, 9.98610181e-05, 1.14930512e-02, 6.12276831e-04,\n",
              "       1.12690414e-01, 1.45119596e-03, 3.66946779e-02, 3.29223109e-03,\n",
              "       2.61263644e-03, 5.07524439e-03, 1.05394303e-04, 5.96964839e-03,\n",
              "       1.94550519e-02, 4.95723461e-03, 3.63540993e-03, 3.80728485e-03,\n",
              "       9.16969010e-03, 2.64983580e-04, 1.03081230e-02, 2.84983204e-03,\n",
              "       5.39780727e-03, 3.98160212e-03, 4.36340001e-03, 3.57666542e-04,\n",
              "       1.31100274e-03, 6.88879971e-04, 2.87607442e-04, 7.22263114e-04,\n",
              "       2.48198382e-04, 2.06662715e-04, 2.80154192e-04, 1.02880971e-03,\n",
              "       2.98510397e-04, 1.15430548e-03, 4.75685416e-04, 1.04367193e-04,\n",
              "       3.27186002e-04, 1.18923256e-07, 8.03782808e-06, 1.83569976e-04,\n",
              "       2.60000345e-04, 1.08776128e-03, 4.87917494e-04, 2.92651417e-04,\n",
              "       6.93338346e-04, 4.16340561e-04, 7.12186343e-04, 1.30094143e-04,\n",
              "       2.20570881e-03, 8.47036705e-05, 7.35105610e-05, 2.66887916e-04,\n",
              "       1.58664651e-03, 6.37752512e-04, 3.33181210e-04, 6.10674904e-04,\n",
              "       1.09373089e-04, 8.45086165e-04, 3.15977495e-04, 1.27597643e-04,\n",
              "       1.59517071e-04, 5.55986211e-03, 4.33239083e-04, 3.26039021e-04])"
            ]
          },
          "metadata": {},
          "execution_count": 26
        }
      ]
    }
  ]
}