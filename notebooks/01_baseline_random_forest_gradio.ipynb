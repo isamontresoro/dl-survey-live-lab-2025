{
  "nbformat": 4,
  "nbformat_minor": 0,
  "metadata": {
    "colab": {
      "provenance": [],
      "include_colab_link": true
    },
    "kernelspec": {
      "name": "python3",
      "display_name": "Python 3"
    },
    "language_info": {
      "name": "python"
    }
  },
  "cells": [
    {
      "cell_type": "markdown",
      "metadata": {
        "id": "view-in-github",
        "colab_type": "text"
      },
      "source": [
        "<a href=\"https://colab.research.google.com/github/isamontresoro/dl-survey-live-lab-2025/blob/main/notebooks/01_baseline_random_forest_gradio.ipynb\" target=\"_parent\"><img src=\"https://colab.research.google.com/assets/colab-badge.svg\" alt=\"Open In Colab\"/></a>"
      ]
    },
    {
      "cell_type": "markdown",
      "source": [
        "# 01 — Baseline Random Forest (Student)\n",
        "\n",
        "**Today we will:**\n",
        "1) Load the Adult dataset (classification: `income`).\n",
        "2) Split train/test **first** (avoid leakage).\n",
        "3) Handle missing values (numeric: mean; categorical: most frequent).\n",
        "4) Encode categorical features:\n",
        "   - Label encode **one** column (`sex`)\n",
        "   - One-hot encode the rest\n",
        "5) (Practice) Scale numeric features (StandardScaler).\n",
        "6) Train a **RandomForestClassifier** and evaluate it.\n",
        "7) **Deep dive** into the RF object: attributes & methods.\n",
        "8) Try a few hyperparameters and record results in your `students/experiment_log.md`.\n",
        "9) Peek at **GridSearchCV** (teacher-led demo).\n",
        "\n",
        "> As you work: add short notes in your experiment log (Goal → Setup → Results → Reflection).\n"
      ],
      "metadata": {
        "id": "7kEq4maoG9eW"
      }
    },
    {
      "cell_type": "markdown",
      "source": [
        "### Setup"
      ],
      "metadata": {
        "id": "V4h1ZDmyHIrA"
      }
    },
    {
      "cell_type": "code",
      "source": [
        "# 0) Setup\n",
        "!pip -q install scikit-learn pandas matplotlib seaborn\n",
        "\n",
        "import pandas as pd\n",
        "import numpy as np\n",
        "import matplotlib.pyplot as plt\n",
        "import seaborn as sns\n",
        "\n",
        "from sklearn.model_selection import train_test_split\n",
        "from sklearn.preprocessing import OneHotEncoder, StandardScaler, LabelEncoder\n",
        "from sklearn.impute import SimpleImputer\n",
        "from sklearn.ensemble import RandomForestClassifier\n",
        "from sklearn.metrics import classification_report, confusion_matrix\n",
        "from sklearn.datasets import fetch_openml\n",
        "\n",
        "print(\"Ready.\")\n"
      ],
      "metadata": {
        "colab": {
          "base_uri": "https://localhost:8080/"
        },
        "id": "QzRQw9sKHCK6",
        "outputId": "0efc90f8-3b13-4383-e895-1700f7d5d10c"
      },
      "execution_count": 1,
      "outputs": [
        {
          "output_type": "stream",
          "name": "stdout",
          "text": [
            "Ready.\n"
          ]
        }
      ]
    },
    {
      "cell_type": "markdown",
      "source": [
        "### Load data"
      ],
      "metadata": {
        "id": "XA0TOkgFHMCu"
      }
    },
    {
      "cell_type": "code",
      "source": [
        "# 1) Load the Adult dataset from OpenML\n",
        "adult = fetch_openml(name=\"adult\", version=2, as_frame=True)\n",
        "df = adult.frame.copy()\n",
        "df.head()\n"
      ],
      "metadata": {
        "colab": {
          "base_uri": "https://localhost:8080/",
          "height": 328
        },
        "id": "tMjwBsLKHPvI",
        "outputId": "6652b2c3-2a2e-405e-db43-ce3d868c655f"
      },
      "execution_count": 2,
      "outputs": [
        {
          "output_type": "execute_result",
          "data": {
            "text/plain": [
              "   age  workclass  fnlwgt     education  education-num      marital-status  \\\n",
              "0   25    Private  226802          11th              7       Never-married   \n",
              "1   38    Private   89814       HS-grad              9  Married-civ-spouse   \n",
              "2   28  Local-gov  336951    Assoc-acdm             12  Married-civ-spouse   \n",
              "3   44    Private  160323  Some-college             10  Married-civ-spouse   \n",
              "4   18        NaN  103497  Some-college             10       Never-married   \n",
              "\n",
              "          occupation relationship   race     sex  capital-gain  capital-loss  \\\n",
              "0  Machine-op-inspct    Own-child  Black    Male             0             0   \n",
              "1    Farming-fishing      Husband  White    Male             0             0   \n",
              "2    Protective-serv      Husband  White    Male             0             0   \n",
              "3  Machine-op-inspct      Husband  Black    Male          7688             0   \n",
              "4                NaN    Own-child  White  Female             0             0   \n",
              "\n",
              "   hours-per-week native-country  class  \n",
              "0              40  United-States  <=50K  \n",
              "1              50  United-States  <=50K  \n",
              "2              40  United-States   >50K  \n",
              "3              40  United-States   >50K  \n",
              "4              30  United-States  <=50K  "
            ],
            "text/html": [
              "\n",
              "  <div id=\"df-0789cf05-a3c0-4477-b55a-e3eb36796de4\" class=\"colab-df-container\">\n",
              "    <div>\n",
              "<style scoped>\n",
              "    .dataframe tbody tr th:only-of-type {\n",
              "        vertical-align: middle;\n",
              "    }\n",
              "\n",
              "    .dataframe tbody tr th {\n",
              "        vertical-align: top;\n",
              "    }\n",
              "\n",
              "    .dataframe thead th {\n",
              "        text-align: right;\n",
              "    }\n",
              "</style>\n",
              "<table border=\"1\" class=\"dataframe\">\n",
              "  <thead>\n",
              "    <tr style=\"text-align: right;\">\n",
              "      <th></th>\n",
              "      <th>age</th>\n",
              "      <th>workclass</th>\n",
              "      <th>fnlwgt</th>\n",
              "      <th>education</th>\n",
              "      <th>education-num</th>\n",
              "      <th>marital-status</th>\n",
              "      <th>occupation</th>\n",
              "      <th>relationship</th>\n",
              "      <th>race</th>\n",
              "      <th>sex</th>\n",
              "      <th>capital-gain</th>\n",
              "      <th>capital-loss</th>\n",
              "      <th>hours-per-week</th>\n",
              "      <th>native-country</th>\n",
              "      <th>class</th>\n",
              "    </tr>\n",
              "  </thead>\n",
              "  <tbody>\n",
              "    <tr>\n",
              "      <th>0</th>\n",
              "      <td>25</td>\n",
              "      <td>Private</td>\n",
              "      <td>226802</td>\n",
              "      <td>11th</td>\n",
              "      <td>7</td>\n",
              "      <td>Never-married</td>\n",
              "      <td>Machine-op-inspct</td>\n",
              "      <td>Own-child</td>\n",
              "      <td>Black</td>\n",
              "      <td>Male</td>\n",
              "      <td>0</td>\n",
              "      <td>0</td>\n",
              "      <td>40</td>\n",
              "      <td>United-States</td>\n",
              "      <td>&lt;=50K</td>\n",
              "    </tr>\n",
              "    <tr>\n",
              "      <th>1</th>\n",
              "      <td>38</td>\n",
              "      <td>Private</td>\n",
              "      <td>89814</td>\n",
              "      <td>HS-grad</td>\n",
              "      <td>9</td>\n",
              "      <td>Married-civ-spouse</td>\n",
              "      <td>Farming-fishing</td>\n",
              "      <td>Husband</td>\n",
              "      <td>White</td>\n",
              "      <td>Male</td>\n",
              "      <td>0</td>\n",
              "      <td>0</td>\n",
              "      <td>50</td>\n",
              "      <td>United-States</td>\n",
              "      <td>&lt;=50K</td>\n",
              "    </tr>\n",
              "    <tr>\n",
              "      <th>2</th>\n",
              "      <td>28</td>\n",
              "      <td>Local-gov</td>\n",
              "      <td>336951</td>\n",
              "      <td>Assoc-acdm</td>\n",
              "      <td>12</td>\n",
              "      <td>Married-civ-spouse</td>\n",
              "      <td>Protective-serv</td>\n",
              "      <td>Husband</td>\n",
              "      <td>White</td>\n",
              "      <td>Male</td>\n",
              "      <td>0</td>\n",
              "      <td>0</td>\n",
              "      <td>40</td>\n",
              "      <td>United-States</td>\n",
              "      <td>&gt;50K</td>\n",
              "    </tr>\n",
              "    <tr>\n",
              "      <th>3</th>\n",
              "      <td>44</td>\n",
              "      <td>Private</td>\n",
              "      <td>160323</td>\n",
              "      <td>Some-college</td>\n",
              "      <td>10</td>\n",
              "      <td>Married-civ-spouse</td>\n",
              "      <td>Machine-op-inspct</td>\n",
              "      <td>Husband</td>\n",
              "      <td>Black</td>\n",
              "      <td>Male</td>\n",
              "      <td>7688</td>\n",
              "      <td>0</td>\n",
              "      <td>40</td>\n",
              "      <td>United-States</td>\n",
              "      <td>&gt;50K</td>\n",
              "    </tr>\n",
              "    <tr>\n",
              "      <th>4</th>\n",
              "      <td>18</td>\n",
              "      <td>NaN</td>\n",
              "      <td>103497</td>\n",
              "      <td>Some-college</td>\n",
              "      <td>10</td>\n",
              "      <td>Never-married</td>\n",
              "      <td>NaN</td>\n",
              "      <td>Own-child</td>\n",
              "      <td>White</td>\n",
              "      <td>Female</td>\n",
              "      <td>0</td>\n",
              "      <td>0</td>\n",
              "      <td>30</td>\n",
              "      <td>United-States</td>\n",
              "      <td>&lt;=50K</td>\n",
              "    </tr>\n",
              "  </tbody>\n",
              "</table>\n",
              "</div>\n",
              "    <div class=\"colab-df-buttons\">\n",
              "\n",
              "  <div class=\"colab-df-container\">\n",
              "    <button class=\"colab-df-convert\" onclick=\"convertToInteractive('df-0789cf05-a3c0-4477-b55a-e3eb36796de4')\"\n",
              "            title=\"Convert this dataframe to an interactive table.\"\n",
              "            style=\"display:none;\">\n",
              "\n",
              "  <svg xmlns=\"http://www.w3.org/2000/svg\" height=\"24px\" viewBox=\"0 -960 960 960\">\n",
              "    <path d=\"M120-120v-720h720v720H120Zm60-500h600v-160H180v160Zm220 220h160v-160H400v160Zm0 220h160v-160H400v160ZM180-400h160v-160H180v160Zm440 0h160v-160H620v160ZM180-180h160v-160H180v160Zm440 0h160v-160H620v160Z\"/>\n",
              "  </svg>\n",
              "    </button>\n",
              "\n",
              "  <style>\n",
              "    .colab-df-container {\n",
              "      display:flex;\n",
              "      gap: 12px;\n",
              "    }\n",
              "\n",
              "    .colab-df-convert {\n",
              "      background-color: #E8F0FE;\n",
              "      border: none;\n",
              "      border-radius: 50%;\n",
              "      cursor: pointer;\n",
              "      display: none;\n",
              "      fill: #1967D2;\n",
              "      height: 32px;\n",
              "      padding: 0 0 0 0;\n",
              "      width: 32px;\n",
              "    }\n",
              "\n",
              "    .colab-df-convert:hover {\n",
              "      background-color: #E2EBFA;\n",
              "      box-shadow: 0px 1px 2px rgba(60, 64, 67, 0.3), 0px 1px 3px 1px rgba(60, 64, 67, 0.15);\n",
              "      fill: #174EA6;\n",
              "    }\n",
              "\n",
              "    .colab-df-buttons div {\n",
              "      margin-bottom: 4px;\n",
              "    }\n",
              "\n",
              "    [theme=dark] .colab-df-convert {\n",
              "      background-color: #3B4455;\n",
              "      fill: #D2E3FC;\n",
              "    }\n",
              "\n",
              "    [theme=dark] .colab-df-convert:hover {\n",
              "      background-color: #434B5C;\n",
              "      box-shadow: 0px 1px 3px 1px rgba(0, 0, 0, 0.15);\n",
              "      filter: drop-shadow(0px 1px 2px rgba(0, 0, 0, 0.3));\n",
              "      fill: #FFFFFF;\n",
              "    }\n",
              "  </style>\n",
              "\n",
              "    <script>\n",
              "      const buttonEl =\n",
              "        document.querySelector('#df-0789cf05-a3c0-4477-b55a-e3eb36796de4 button.colab-df-convert');\n",
              "      buttonEl.style.display =\n",
              "        google.colab.kernel.accessAllowed ? 'block' : 'none';\n",
              "\n",
              "      async function convertToInteractive(key) {\n",
              "        const element = document.querySelector('#df-0789cf05-a3c0-4477-b55a-e3eb36796de4');\n",
              "        const dataTable =\n",
              "          await google.colab.kernel.invokeFunction('convertToInteractive',\n",
              "                                                    [key], {});\n",
              "        if (!dataTable) return;\n",
              "\n",
              "        const docLinkHtml = 'Like what you see? Visit the ' +\n",
              "          '<a target=\"_blank\" href=https://colab.research.google.com/notebooks/data_table.ipynb>data table notebook</a>'\n",
              "          + ' to learn more about interactive tables.';\n",
              "        element.innerHTML = '';\n",
              "        dataTable['output_type'] = 'display_data';\n",
              "        await google.colab.output.renderOutput(dataTable, element);\n",
              "        const docLink = document.createElement('div');\n",
              "        docLink.innerHTML = docLinkHtml;\n",
              "        element.appendChild(docLink);\n",
              "      }\n",
              "    </script>\n",
              "  </div>\n",
              "\n",
              "\n",
              "    <div id=\"df-4ffb6674-4887-41cf-908b-24eb28bf52c6\">\n",
              "      <button class=\"colab-df-quickchart\" onclick=\"quickchart('df-4ffb6674-4887-41cf-908b-24eb28bf52c6')\"\n",
              "                title=\"Suggest charts\"\n",
              "                style=\"display:none;\">\n",
              "\n",
              "<svg xmlns=\"http://www.w3.org/2000/svg\" height=\"24px\"viewBox=\"0 0 24 24\"\n",
              "     width=\"24px\">\n",
              "    <g>\n",
              "        <path d=\"M19 3H5c-1.1 0-2 .9-2 2v14c0 1.1.9 2 2 2h14c1.1 0 2-.9 2-2V5c0-1.1-.9-2-2-2zM9 17H7v-7h2v7zm4 0h-2V7h2v10zm4 0h-2v-4h2v4z\"/>\n",
              "    </g>\n",
              "</svg>\n",
              "      </button>\n",
              "\n",
              "<style>\n",
              "  .colab-df-quickchart {\n",
              "      --bg-color: #E8F0FE;\n",
              "      --fill-color: #1967D2;\n",
              "      --hover-bg-color: #E2EBFA;\n",
              "      --hover-fill-color: #174EA6;\n",
              "      --disabled-fill-color: #AAA;\n",
              "      --disabled-bg-color: #DDD;\n",
              "  }\n",
              "\n",
              "  [theme=dark] .colab-df-quickchart {\n",
              "      --bg-color: #3B4455;\n",
              "      --fill-color: #D2E3FC;\n",
              "      --hover-bg-color: #434B5C;\n",
              "      --hover-fill-color: #FFFFFF;\n",
              "      --disabled-bg-color: #3B4455;\n",
              "      --disabled-fill-color: #666;\n",
              "  }\n",
              "\n",
              "  .colab-df-quickchart {\n",
              "    background-color: var(--bg-color);\n",
              "    border: none;\n",
              "    border-radius: 50%;\n",
              "    cursor: pointer;\n",
              "    display: none;\n",
              "    fill: var(--fill-color);\n",
              "    height: 32px;\n",
              "    padding: 0;\n",
              "    width: 32px;\n",
              "  }\n",
              "\n",
              "  .colab-df-quickchart:hover {\n",
              "    background-color: var(--hover-bg-color);\n",
              "    box-shadow: 0 1px 2px rgba(60, 64, 67, 0.3), 0 1px 3px 1px rgba(60, 64, 67, 0.15);\n",
              "    fill: var(--button-hover-fill-color);\n",
              "  }\n",
              "\n",
              "  .colab-df-quickchart-complete:disabled,\n",
              "  .colab-df-quickchart-complete:disabled:hover {\n",
              "    background-color: var(--disabled-bg-color);\n",
              "    fill: var(--disabled-fill-color);\n",
              "    box-shadow: none;\n",
              "  }\n",
              "\n",
              "  .colab-df-spinner {\n",
              "    border: 2px solid var(--fill-color);\n",
              "    border-color: transparent;\n",
              "    border-bottom-color: var(--fill-color);\n",
              "    animation:\n",
              "      spin 1s steps(1) infinite;\n",
              "  }\n",
              "\n",
              "  @keyframes spin {\n",
              "    0% {\n",
              "      border-color: transparent;\n",
              "      border-bottom-color: var(--fill-color);\n",
              "      border-left-color: var(--fill-color);\n",
              "    }\n",
              "    20% {\n",
              "      border-color: transparent;\n",
              "      border-left-color: var(--fill-color);\n",
              "      border-top-color: var(--fill-color);\n",
              "    }\n",
              "    30% {\n",
              "      border-color: transparent;\n",
              "      border-left-color: var(--fill-color);\n",
              "      border-top-color: var(--fill-color);\n",
              "      border-right-color: var(--fill-color);\n",
              "    }\n",
              "    40% {\n",
              "      border-color: transparent;\n",
              "      border-right-color: var(--fill-color);\n",
              "      border-top-color: var(--fill-color);\n",
              "    }\n",
              "    60% {\n",
              "      border-color: transparent;\n",
              "      border-right-color: var(--fill-color);\n",
              "    }\n",
              "    80% {\n",
              "      border-color: transparent;\n",
              "      border-right-color: var(--fill-color);\n",
              "      border-bottom-color: var(--fill-color);\n",
              "    }\n",
              "    90% {\n",
              "      border-color: transparent;\n",
              "      border-bottom-color: var(--fill-color);\n",
              "    }\n",
              "  }\n",
              "</style>\n",
              "\n",
              "      <script>\n",
              "        async function quickchart(key) {\n",
              "          const quickchartButtonEl =\n",
              "            document.querySelector('#' + key + ' button');\n",
              "          quickchartButtonEl.disabled = true;  // To prevent multiple clicks.\n",
              "          quickchartButtonEl.classList.add('colab-df-spinner');\n",
              "          try {\n",
              "            const charts = await google.colab.kernel.invokeFunction(\n",
              "                'suggestCharts', [key], {});\n",
              "          } catch (error) {\n",
              "            console.error('Error during call to suggestCharts:', error);\n",
              "          }\n",
              "          quickchartButtonEl.classList.remove('colab-df-spinner');\n",
              "          quickchartButtonEl.classList.add('colab-df-quickchart-complete');\n",
              "        }\n",
              "        (() => {\n",
              "          let quickchartButtonEl =\n",
              "            document.querySelector('#df-4ffb6674-4887-41cf-908b-24eb28bf52c6 button');\n",
              "          quickchartButtonEl.style.display =\n",
              "            google.colab.kernel.accessAllowed ? 'block' : 'none';\n",
              "        })();\n",
              "      </script>\n",
              "    </div>\n",
              "\n",
              "    </div>\n",
              "  </div>\n"
            ],
            "application/vnd.google.colaboratory.intrinsic+json": {
              "type": "dataframe",
              "variable_name": "df",
              "summary": "{\n  \"name\": \"df\",\n  \"rows\": 48842,\n  \"fields\": [\n    {\n      \"column\": \"age\",\n      \"properties\": {\n        \"dtype\": \"number\",\n        \"std\": 13,\n        \"min\": 17,\n        \"max\": 90,\n        \"num_unique_values\": 74,\n        \"samples\": [\n          18,\n          74,\n          40\n        ],\n        \"semantic_type\": \"\",\n        \"description\": \"\"\n      }\n    },\n    {\n      \"column\": \"workclass\",\n      \"properties\": {\n        \"dtype\": \"category\",\n        \"num_unique_values\": 8,\n        \"samples\": [\n          \"Local-gov\",\n          \"Self-emp-inc\",\n          \"Private\"\n        ],\n        \"semantic_type\": \"\",\n        \"description\": \"\"\n      }\n    },\n    {\n      \"column\": \"fnlwgt\",\n      \"properties\": {\n        \"dtype\": \"number\",\n        \"std\": 105604,\n        \"min\": 12285,\n        \"max\": 1490400,\n        \"num_unique_values\": 28523,\n        \"samples\": [\n          171041,\n          20296,\n          263896\n        ],\n        \"semantic_type\": \"\",\n        \"description\": \"\"\n      }\n    },\n    {\n      \"column\": \"education\",\n      \"properties\": {\n        \"dtype\": \"category\",\n        \"num_unique_values\": 16,\n        \"samples\": [\n          \"11th\",\n          \"HS-grad\",\n          \"Prof-school\"\n        ],\n        \"semantic_type\": \"\",\n        \"description\": \"\"\n      }\n    },\n    {\n      \"column\": \"education-num\",\n      \"properties\": {\n        \"dtype\": \"number\",\n        \"std\": 2,\n        \"min\": 1,\n        \"max\": 16,\n        \"num_unique_values\": 16,\n        \"samples\": [\n          7,\n          9,\n          15\n        ],\n        \"semantic_type\": \"\",\n        \"description\": \"\"\n      }\n    },\n    {\n      \"column\": \"marital-status\",\n      \"properties\": {\n        \"dtype\": \"category\",\n        \"num_unique_values\": 7,\n        \"samples\": [\n          \"Never-married\",\n          \"Married-civ-spouse\",\n          \"Married-spouse-absent\"\n        ],\n        \"semantic_type\": \"\",\n        \"description\": \"\"\n      }\n    },\n    {\n      \"column\": \"occupation\",\n      \"properties\": {\n        \"dtype\": \"category\",\n        \"num_unique_values\": 14,\n        \"samples\": [\n          \"Sales\",\n          \"Transport-moving\",\n          \"Machine-op-inspct\"\n        ],\n        \"semantic_type\": \"\",\n        \"description\": \"\"\n      }\n    },\n    {\n      \"column\": \"relationship\",\n      \"properties\": {\n        \"dtype\": \"category\",\n        \"num_unique_values\": 6,\n        \"samples\": [\n          \"Own-child\",\n          \"Husband\",\n          \"Other-relative\"\n        ],\n        \"semantic_type\": \"\",\n        \"description\": \"\"\n      }\n    },\n    {\n      \"column\": \"race\",\n      \"properties\": {\n        \"dtype\": \"category\",\n        \"num_unique_values\": 5,\n        \"samples\": [\n          \"White\",\n          \"Amer-Indian-Eskimo\",\n          \"Asian-Pac-Islander\"\n        ],\n        \"semantic_type\": \"\",\n        \"description\": \"\"\n      }\n    },\n    {\n      \"column\": \"sex\",\n      \"properties\": {\n        \"dtype\": \"category\",\n        \"num_unique_values\": 2,\n        \"samples\": [\n          \"Female\",\n          \"Male\"\n        ],\n        \"semantic_type\": \"\",\n        \"description\": \"\"\n      }\n    },\n    {\n      \"column\": \"capital-gain\",\n      \"properties\": {\n        \"dtype\": \"number\",\n        \"std\": 7452,\n        \"min\": 0,\n        \"max\": 99999,\n        \"num_unique_values\": 123,\n        \"samples\": [\n          4064,\n          4787\n        ],\n        \"semantic_type\": \"\",\n        \"description\": \"\"\n      }\n    },\n    {\n      \"column\": \"capital-loss\",\n      \"properties\": {\n        \"dtype\": \"number\",\n        \"std\": 403,\n        \"min\": 0,\n        \"max\": 4356,\n        \"num_unique_values\": 99,\n        \"samples\": [\n          2238,\n          1564\n        ],\n        \"semantic_type\": \"\",\n        \"description\": \"\"\n      }\n    },\n    {\n      \"column\": \"hours-per-week\",\n      \"properties\": {\n        \"dtype\": \"number\",\n        \"std\": 12,\n        \"min\": 1,\n        \"max\": 99,\n        \"num_unique_values\": 96,\n        \"samples\": [\n          9,\n          11\n        ],\n        \"semantic_type\": \"\",\n        \"description\": \"\"\n      }\n    },\n    {\n      \"column\": \"native-country\",\n      \"properties\": {\n        \"dtype\": \"category\",\n        \"num_unique_values\": 41,\n        \"samples\": [\n          \"Canada\",\n          \"South\"\n        ],\n        \"semantic_type\": \"\",\n        \"description\": \"\"\n      }\n    },\n    {\n      \"column\": \"class\",\n      \"properties\": {\n        \"dtype\": \"category\",\n        \"num_unique_values\": 2,\n        \"samples\": [\n          \">50K\",\n          \"<=50K\"\n        ],\n        \"semantic_type\": \"\",\n        \"description\": \"\"\n      }\n    }\n  ]\n}"
            }
          },
          "metadata": {},
          "execution_count": 2
        }
      ]
    },
    {
      "cell_type": "markdown",
      "source": [
        "**Question:** Is this a classification or regression problem?  \n",
        "**Target column:** ???\n"
      ],
      "metadata": {
        "id": "fCor1H6KHaU9"
      }
    },
    {
      "cell_type": "markdown",
      "source": [
        "### Choose columns & split FIRST"
      ],
      "metadata": {
        "id": "1nGA1kAmHdAY"
      }
    },
    {
      "cell_type": "code",
      "source": [
        "# 2) Choose columns (keep it small for speed)\n",
        "numeric_features = [\"age\", \"hours-per-week\", \"education-num\", \"capital-gain\", \"capital-loss\"]\n",
        "categorical_features = [\"workclass\", \"marital-status\", \"occupation\", \"sex\", \"native-country\"]\n",
        "target_col = \"class\"\n",
        "\n",
        "use_cols = numeric_features + categorical_features + [target_col]\n",
        "df = df[use_cols].copy()\n",
        "\n",
        "# 3) Split FIRST (to avoid leakage)\n",
        "X = df.drop(columns=[target_col])\n",
        "y = df[target_col]\n",
        "\n",
        "X_train, X_test, y_train, y_test = train_test_split(\n",
        "    X, y, test_size=0.20, random_state=42, stratify=y\n",
        ")\n",
        "X_train.shape, X_test.shape\n"
      ],
      "metadata": {
        "colab": {
          "base_uri": "https://localhost:8080/"
        },
        "id": "XrQpnKQyHkKe",
        "outputId": "0f50a8e8-eacb-4a41-fd12-1b83ecfa3f32"
      },
      "execution_count": 3,
      "outputs": [
        {
          "output_type": "execute_result",
          "data": {
            "text/plain": [
              "((39073, 10), (9769, 10))"
            ]
          },
          "metadata": {},
          "execution_count": 3
        }
      ]
    },
    {
      "cell_type": "markdown",
      "source": [
        "**Why split first?**  \n",
        "So that ....\n"
      ],
      "metadata": {
        "id": "3jkmTckzH6b3"
      }
    },
    {
      "cell_type": "markdown",
      "source": [
        "### Handle missing values"
      ],
      "metadata": {
        "id": "XPllvxCZIBOM"
      }
    },
    {
      "cell_type": "code",
      "source": [
        "# 4) Impute missing values\n",
        "# Numeric → mean (try median later if you like)\n",
        "num_imputer = SimpleImputer(strategy=\"mean\")\n",
        "X_train_num = pd.DataFrame(num_imputer.fit_transform(X_train[numeric_features]),\n",
        "                           columns=numeric_features, index=X_train.index)\n",
        "X_test_num  = pd.DataFrame(num_imputer.transform(X_test[numeric_features]),\n",
        "                           columns=numeric_features, index=X_test.index)\n",
        "\n",
        "# Categorical → most frequent\n",
        "cat_imputer = SimpleImputer(strategy=\"most_frequent\")\n",
        "X_train_cat_raw = pd.DataFrame(cat_imputer.fit_transform(X_train[categorical_features]),\n",
        "                               columns=categorical_features, index=X_train.index)\n",
        "X_test_cat_raw  = pd.DataFrame(cat_imputer.transform(X_test[categorical_features]),\n",
        "                               columns=categorical_features, index=X_test.index)\n"
      ],
      "metadata": {
        "id": "FMli46S0IFuQ"
      },
      "execution_count": 4,
      "outputs": []
    },
    {
      "cell_type": "markdown",
      "source": [
        "### Encode categoricals"
      ],
      "metadata": {
        "id": "CFuCQDKOITzT"
      }
    },
    {
      "cell_type": "code",
      "source": [
        "# 5) Encode categoricals\n",
        "# Label-encode ONE column ('sex'); one-hot the rest\n",
        "label_encode_col = \"sex\"\n",
        "\n",
        "# Copies\n",
        "X_train_processed = X_train_cat_raw.copy()\n",
        "X_test_processed  = X_test_cat_raw.copy()\n",
        "\n",
        "# LabelEncoder: fit on train, apply to test\n",
        "le = LabelEncoder()\n",
        "X_train_processed[label_encode_col] = le.fit_transform(X_train_processed[label_encode_col])\n",
        "X_test_processed[label_encode_col]  = le.transform(X_test_processed[label_encode_col])\n",
        "\n",
        "# One-hot all other categorical columns\n",
        "onehot_cols = [c for c in X_train_processed.columns if c != label_encode_col]\n",
        "\n",
        "# Version-safe: sparse_output (>=1.2) vs sparse (<1.2)\n",
        "try:\n",
        "    ohe = OneHotEncoder(handle_unknown=\"ignore\", sparse_output=False)\n",
        "except TypeError:\n",
        "    ohe = OneHotEncoder(handle_unknown=\"ignore\", sparse=False)\n",
        "\n",
        "X_train_ohe_array = ohe.fit_transform(X_train_processed[onehot_cols])\n",
        "X_test_ohe_array  = ohe.transform(X_test_processed[onehot_cols])\n",
        "\n",
        "ohe_feature_names = ohe.get_feature_names_out(onehot_cols)\n",
        "X_train_ohe = pd.DataFrame(X_train_ohe_array, columns=ohe_feature_names)\n",
        "X_test_ohe  = pd.DataFrame(X_test_ohe_array,  columns=ohe_feature_names)\n",
        "\n",
        "# Combine label-encoded + one-hot (reset indices for alignment)\n",
        "label_encoded_train = X_train_processed[[label_encode_col]].reset_index(drop=True)\n",
        "label_encoded_test  = X_test_processed[[label_encode_col]].reset_index(drop=True)\n",
        "X_train_cat = pd.concat([label_encoded_train, X_train_ohe.reset_index(drop=True)], axis=1)\n",
        "X_test_cat  = pd.concat([label_encoded_test,  X_test_ohe.reset_index(drop=True)],  axis=1)\n",
        "\n",
        "X_train_cat.shape, X_test_cat.shape\n"
      ],
      "metadata": {
        "colab": {
          "base_uri": "https://localhost:8080/"
        },
        "id": "5qFdLucQIW0z",
        "outputId": "4e835b49-2829-4032-94ec-9f73a05ba6c2"
      },
      "execution_count": 5,
      "outputs": [
        {
          "output_type": "execute_result",
          "data": {
            "text/plain": [
              "((39073, 71), (9769, 71))"
            ]
          },
          "metadata": {},
          "execution_count": 5
        }
      ]
    },
    {
      "cell_type": "markdown",
      "source": [
        "**Reflect:**  \n",
        "- When might **label encoding** be risky?  \n",
        "- Why is **one-hot** often safer for models like Logistic Regression or Neural Nets?\n"
      ],
      "metadata": {
        "id": "7WaPWu0jIiOo"
      }
    },
    {
      "cell_type": "markdown",
      "source": [
        "### Scale numeric features (practice)"
      ],
      "metadata": {
        "id": "-jXtk2ZPItIk"
      }
    },
    {
      "cell_type": "code",
      "source": [
        "# 6) Scale numeric features (practice—even if RF doesn’t need it)\n",
        "scaler = StandardScaler()\n",
        "X_train_num_scaled = pd.DataFrame(scaler.fit_transform(X_train_num), columns=numeric_features)\n",
        "X_test_num_scaled  = pd.DataFrame(scaler.transform(X_test_num),   columns=numeric_features)\n",
        "\n",
        "# Assemble final matrices (reset indices to align rows)\n",
        "X_train_final = pd.concat([X_train_num_scaled.reset_index(drop=True),\n",
        "                           X_train_cat.reset_index(drop=True)], axis=1)\n",
        "X_test_final  = pd.concat([X_test_num_scaled.reset_index(drop=True),\n",
        "                           X_test_cat.reset_index(drop=True)],  axis=1)\n",
        "\n",
        "X_train_final.shape, X_test_final.shape\n"
      ],
      "metadata": {
        "colab": {
          "base_uri": "https://localhost:8080/"
        },
        "id": "kU1XGWMlIoe7",
        "outputId": "663dc3e3-6db4-4147-b260-495e4ff9cbe7"
      },
      "execution_count": 6,
      "outputs": [
        {
          "output_type": "execute_result",
          "data": {
            "text/plain": [
              "((39073, 76), (9769, 76))"
            ]
          },
          "metadata": {},
          "execution_count": 6
        }
      ]
    },
    {
      "cell_type": "markdown",
      "source": [
        "**When would you prefer**:\n",
        "- `MinMaxScaler` ?\n",
        "- `RobustScaler` ?\n"
      ],
      "metadata": {
        "id": "vzO9iUMfJyiE"
      }
    },
    {
      "cell_type": "markdown",
      "source": [
        "### Train RF + Evaluate"
      ],
      "metadata": {
        "id": "zXu_WfCTJ5fI"
      }
    },
    {
      "cell_type": "code",
      "source": [
        "# 7) Train a baseline Random Forest\n",
        "rf = RandomForestClassifier(n_estimators=100, random_state=42)\n",
        "rf.fit(X_train_final, y_train)\n",
        "\n",
        "y_pred = rf.predict(X_test_final)\n",
        "print(classification_report(y_test, y_pred))\n",
        "\n",
        "cm = confusion_matrix(y_test, y_pred, labels=rf.classes_)\n",
        "sns.heatmap(pd.DataFrame(cm, index=[f\"true_{c}\" for c in rf.classes_],\n",
        "                            columns=[f\"pred_{c}\" for c in rf.classes_]),\n",
        "            annot=True, fmt=\"d\", cmap=\"Blues\")\n",
        "plt.show()\n"
      ],
      "metadata": {
        "id": "NrrkQWV1J9Nz",
        "outputId": "240c1a38-a6a1-4819-e45c-ad9c2f26fb91",
        "colab": {
          "base_uri": "https://localhost:8080/",
          "height": 591
        }
      },
      "execution_count": 7,
      "outputs": [
        {
          "output_type": "stream",
          "name": "stdout",
          "text": [
            "              precision    recall  f1-score   support\n",
            "\n",
            "       <=50K       0.88      0.92      0.90      7431\n",
            "        >50K       0.72      0.61      0.66      2338\n",
            "\n",
            "    accuracy                           0.85      9769\n",
            "   macro avg       0.80      0.77      0.78      9769\n",
            "weighted avg       0.84      0.85      0.85      9769\n",
            "\n"
          ]
        },
        {
          "output_type": "display_data",
          "data": {
            "text/plain": [
              "<Figure size 640x480 with 2 Axes>"
            ],
            "image/png": "[encoded data removed]"
          },
          "metadata": {}
        }
      ]
    },
    {
      "cell_type": "markdown",
      "source": [
        "### Deep dive: RF Object"
      ],
      "metadata": {
        "id": "Ylz6u_gJKHE4"
      }
    },
    {
      "cell_type": "code",
      "source": [
        "# 8) Inspect the RF object: attributes & methods\n",
        "print(\"Number of trees:\", rf.n_estimators)\n",
        "print(\"Classes:\", rf.classes_)\n",
        "print(\"Max depth setting:\", rf.max_depth)\n",
        "\n",
        "# Feature importances (top 10)\n",
        "importances = pd.Series(rf.feature_importances_, index=X_train_final.columns).sort_values(ascending=False)\n",
        "importances.head(10)\n"
      ],
      "metadata": {
        "colab": {
          "base_uri": "https://localhost:8080/",
          "height": 451
        },
        "id": "AbIhhT1_KMiR",
        "outputId": "0d649b24-f6f9-463e-eb7a-257206897e56"
      },
      "execution_count": null,
      "outputs": [
        {
          "output_type": "stream",
          "name": "stdout",
          "text": [
            "Number of trees: 100\n",
            "Classes: ['<=50K' '>50K']\n",
            "Max depth setting: None\n"
          ]
        },
        {
          "output_type": "execute_result",
          "data": {
            "text/plain": [
              "age                                  0.250227\n",
              "education-num                        0.136151\n",
              "hours-per-week                       0.124182\n",
              "capital-gain                         0.115856\n",
              "marital-status_Married-civ-spouse    0.112690\n",
              "capital-loss                         0.041463\n",
              "marital-status_Never-married         0.036695\n",
              "sex                                  0.021219\n",
              "occupation_Exec-managerial           0.019455\n",
              "marital-status_Divorced              0.011493\n",
              "dtype: float64"
            ],
            "text/html": [
              "<div>\n",
              "<style scoped>\n",
              "    .dataframe tbody tr th:only-of-type {\n",
              "        vertical-align: middle;\n",
              "    }\n",
              "\n",
              "    .dataframe tbody tr th {\n",
              "        vertical-align: top;\n",
              "    }\n",
              "\n",
              "    .dataframe thead th {\n",
              "        text-align: right;\n",
              "    }\n",
              "</style>\n",
              "<table border=\"1\" class=\"dataframe\">\n",
              "  <thead>\n",
              "    <tr style=\"text-align: right;\">\n",
              "      <th></th>\n",
              "      <th>0</th>\n",
              "    </tr>\n",
              "  </thead>\n",
              "  <tbody>\n",
              "    <tr>\n",
              "      <th>age</th>\n",
              "      <td>0.250227</td>\n",
              "    </tr>\n",
              "    <tr>\n",
              "      <th>education-num</th>\n",
              "      <td>0.136151</td>\n",
              "    </tr>\n",
              "    <tr>\n",
              "      <th>hours-per-week</th>\n",
              "      <td>0.124182</td>\n",
              "    </tr>\n",
              "    <tr>\n",
              "      <th>capital-gain</th>\n",
              "      <td>0.115856</td>\n",
              "    </tr>\n",
              "    <tr>\n",
              "      <th>marital-status_Married-civ-spouse</th>\n",
              "      <td>0.112690</td>\n",
              "    </tr>\n",
              "    <tr>\n",
              "      <th>capital-loss</th>\n",
              "      <td>0.041463</td>\n",
              "    </tr>\n",
              "    <tr>\n",
              "      <th>marital-status_Never-married</th>\n",
              "      <td>0.036695</td>\n",
              "    </tr>\n",
              "    <tr>\n",
              "      <th>sex</th>\n",
              "      <td>0.021219</td>\n",
              "    </tr>\n",
              "    <tr>\n",
              "      <th>occupation_Exec-managerial</th>\n",
              "      <td>0.019455</td>\n",
              "    </tr>\n",
              "    <tr>\n",
              "      <th>marital-status_Divorced</th>\n",
              "      <td>0.011493</td>\n",
              "    </tr>\n",
              "  </tbody>\n",
              "</table>\n",
              "</div><br><label><b>dtype:</b> float64</label>"
            ]
          },
          "metadata": {},
          "execution_count": 8
        }
      ]
    },
    {
      "cell_type": "code",
      "source": [
        "# Predict vs predict_proba\n",
        "pred_label = rf.predict(X_test_final[:5])\n",
        "pred_prob  = rf.predict_proba(X_test_final[:5])\n",
        "pred_label, pred_prob\n"
      ],
      "metadata": {
        "colab": {
          "base_uri": "https://localhost:8080/"
        },
        "id": "3IC-IU79KZ3S",
        "outputId": "9692d90c-aa46-443d-8edd-811eb4a430fa"
      },
      "execution_count": null,
      "outputs": [
        {
          "output_type": "execute_result",
          "data": {
            "text/plain": [
              "(array(['>50K', '<=50K', '>50K', '<=50K', '>50K'], dtype=object),\n",
              " array([[0.44, 0.56],\n",
              "        [1.  , 0.  ],\n",
              "        [0.34, 0.66],\n",
              "        [0.88, 0.12],\n",
              "        [0.35, 0.65]]))"
            ]
          },
          "metadata": {},
          "execution_count": 9
        }
      ]
    },
    {
      "cell_type": "markdown",
      "source": [
        "**Explain in your own words:**  \n",
        "- What’s the difference between `predict` and `predict_proba`?  \n",
        "- Which would you show in an app UI, and why?\n"
      ],
      "metadata": {
        "id": "68Ks5JhwKlLI"
      }
    },
    {
      "cell_type": "markdown",
      "source": [
        "### Tinkering with Hyperparameters"
      ],
      "metadata": {
        "id": "wpocxi6lKrDu"
      }
    },
    {
      "cell_type": "code",
      "source": [
        "# 9) Tinker: try one change, re-run report, log in experiment_log.md\n",
        "rf2 = RandomForestClassifier(\n",
        "    n_estimators=200,   # try 50 / 100 / 200\n",
        "    max_depth=None,     # try 10 / 20 / None\n",
        "    min_samples_split=2,  # try 2 / 5\n",
        "    random_state=42\n",
        ")\n",
        "rf2.fit(X_train_final, y_train)\n",
        "print(classification_report(y_test, rf2.predict(X_test_final)))\n"
      ],
      "metadata": {
        "colab": {
          "base_uri": "https://localhost:8080/"
        },
        "id": "E0lX_r_jKzsH",
        "outputId": "8f4ffbbd-2abb-40d2-eea2-bfee7fab2f5a"
      },
      "execution_count": 8,
      "outputs": [
        {
          "output_type": "stream",
          "name": "stdout",
          "text": [
            "              precision    recall  f1-score   support\n",
            "\n",
            "       <=50K       0.88      0.93      0.90      7431\n",
            "        >50K       0.72      0.61      0.66      2338\n",
            "\n",
            "    accuracy                           0.85      9769\n",
            "   macro avg       0.80      0.77      0.78      9769\n",
            "weighted avg       0.84      0.85      0.85      9769\n",
            "\n"
          ]
        }
      ]
    },
    {
      "cell_type": "markdown",
      "source": [
        "### GridSearchCV"
      ],
      "metadata": {
        "id": "A3mDYVwRLIft"
      }
    },
    {
      "cell_type": "code",
      "source": [
        "# 10)\n",
        "from sklearn.model_selection import GridSearchCV\n",
        "\n",
        "param_grid = {\n",
        "    \"n_estimators\": [50, 100],\n",
        "    \"max_depth\": [None, 10, 20],\n",
        "}\n",
        "grid = GridSearchCV(RandomForestClassifier(random_state=42),\n",
        "                    param_grid, cv=3, scoring=\"accuracy\", n_jobs=-1)\n",
        "grid.fit(X_train_final, y_train)\n",
        "\n",
        "print(\"Best params:\", grid.best_params_)\n",
        "print(\"Best CV accuracy:\", round(grid.best_score_, 4))\n",
        "print(\"Test accuracy with best params:\", round(grid.best_estimator_.score(X_test_final, y_test), 4))\n"
      ],
      "metadata": {
        "colab": {
          "base_uri": "https://localhost:8080/"
        },
        "id": "4JhC3gCwLHVe",
        "outputId": "a138a613-7a8b-452a-f541-cac9671dff19"
      },
      "execution_count": null,
      "outputs": [
        {
          "output_type": "stream",
          "name": "stdout",
          "text": [
            "Best params: {'max_depth': 20, 'n_estimators': 100}\n",
            "Best CV accuracy: 0.863\n",
            "Test accuracy with best params: 0.8679\n"
          ]
        }
      ]
    },
    {
      "cell_type": "markdown",
      "source": [
        "# 🏠 Homework: GridSearchCV vs RandomizedSearchCV\n",
        "\n",
        "Today we used **GridSearchCV** to systematically test a small parameter grid.  \n",
        "But GridSearch gets expensive if the parameter space is large.  \n",
        "An alternative is **RandomizedSearchCV**: it samples combinations at random.\n",
        "\n",
        "**Task:**  \n",
        "1. Run the provided code that compares GridSearchCV and RandomizedSearchCV.  \n",
        "2. Note which one is faster, and whether they found similar/better hyperparameters.  \n",
        "3. Add your reflection in `students/experiment_log.md` under \"Run 2\".\n"
      ],
      "metadata": {
        "id": "d-Tm5BGQMkSq"
      }
    },
    {
      "cell_type": "markdown",
      "source": [],
      "metadata": {
        "id": "n0JB2FXnMkEY"
      }
    },
    {
      "cell_type": "code",
      "source": [
        "from sklearn.model_selection import RandomizedSearchCV\n",
        "from scipy.stats import randint\n",
        "\n",
        "# Define parameter distributions for RandomizedSearch\n",
        "param_dist = {\n",
        "    \"n_estimators\": randint(50, 300),\n",
        "    \"max_depth\": [None, 10, 20, 30],\n",
        "    \"min_samples_split\": randint(2, 10)\n",
        "}\n",
        "\n",
        "# GridSearch (small grid)\n",
        "param_grid = {\n",
        "    \"n_estimators\": [50, 100, 200],\n",
        "    \"max_depth\": [None, 10, 20],\n",
        "}\n",
        "\n",
        "grid = GridSearchCV(RandomForestClassifier(random_state=42),\n",
        "                    param_grid, cv=3, scoring=\"accuracy\", n_jobs=-1)\n",
        "\n",
        "random_search = RandomizedSearchCV(RandomForestClassifier(random_state=42),\n",
        "                                   param_dist, n_iter=10, cv=3,\n",
        "                                   scoring=\"accuracy\", n_jobs=-1,\n",
        "                                   random_state=42)\n",
        "\n",
        "print(\"Running GridSearchCV...\")\n",
        "grid.fit(X_train_final, y_train)\n",
        "\n",
        "print(\"Running RandomizedSearchCV...\")\n",
        "random_search.fit(X_train_final, y_train)\n",
        "\n",
        "print(\"Best params (GridSearch):\", grid.best_params_)\n",
        "print(\"Best score (GridSearch):\", round(grid.best_score_, 4))\n",
        "\n",
        "print(\"Best params (RandomizedSearch):\", random_search.best_params_)\n",
        "print(\"Best score (RandomizedSearch):\", round(random_search.best_score_, 4))\n"
      ],
      "metadata": {
        "id": "qeSuqgjPMo2J",
        "colab": {
          "base_uri": "https://localhost:8080/",
          "height": 216
        },
        "outputId": "6e0c7aa5-e1d2-4b96-8069-e66309151ae8"
      },
      "execution_count": null,
      "outputs": [
        {
          "output_type": "error",
          "ename": "NameError",
          "evalue": "name 'GridSearchCV' is not defined",
          "traceback": [
            "\u001b[0;31m---------------------------------------------------------------------------\u001b[0m",
            "\u001b[0;31mNameError\u001b[0m                                 Traceback (most recent call last)",
            "\u001b[0;32m/tmp/ipython-input-1294042439.py\u001b[0m in \u001b[0;36m<cell line: 0>\u001b[0;34m()\u001b[0m\n\u001b[1;32m     15\u001b[0m }\n\u001b[1;32m     16\u001b[0m \u001b[0;34m\u001b[0m\u001b[0m\n\u001b[0;32m---> 17\u001b[0;31m grid = GridSearchCV(RandomForestClassifier(random_state=42),\n\u001b[0m\u001b[1;32m     18\u001b[0m                     param_grid, cv=3, scoring=\"accuracy\", n_jobs=-1)\n\u001b[1;32m     19\u001b[0m \u001b[0;34m\u001b[0m\u001b[0m\n",
            "\u001b[0;31mNameError\u001b[0m: name 'GridSearchCV' is not defined"
          ]
        }
      ]
    },
    {
      "cell_type": "markdown",
      "source": [
        "## Reflection Questions\n",
        "- Which method finished faster? Why?  \n",
        "- Did they find similar or different best parameters?  \n",
        "- When would you choose GridSearchCV vs RandomizedSearchCV in practice?  \n"
      ],
      "metadata": {
        "id": "JXhJMbowMvCe"
      }
    },
    {
      "cell_type": "markdown",
      "source": [
        "# 🎛️ Turn Your Random Forest Into a Gradio App\n",
        "\n",
        "**Goal:** Wrap our already-trained Random Forest (RF) into a tiny web app so anyone can try inputs and see predictions (and confidence).\n",
        "\n",
        "**What you should already have (from the earlier notebook):**\n",
        "- A trained `rf` model.\n",
        "- Preprocessing objects: `num_imputer`, `cat_imputer`, `le` (LabelEncoder for `\"sex\"`), `ohe`, `scaler`.\n",
        "- Feature lists: `numeric_features`, `label_encode_col = \"sex\"`, `onehot_cols`.\n",
        "- The final training matrix `X_train_final` (so we can keep the exact column order).\n",
        "\n",
        "> If you get “name is not defined” errors later, scroll up and re-run the cells that define/train these.\n",
        "\n",
        "\n",
        "\n"
      ],
      "metadata": {
        "id": "fHuKBny0Sdxw"
      }
    },
    {
      "cell_type": "markdown",
      "source": [
        "---\n",
        "\n",
        "## Step 1 — Lock in the feature order\n",
        "We must feed the app’s processed row to the model in the **exact** column order used during training.\n",
        "\n",
        "**Action:** Create `feature_order = list(X_train_final.columns)` in a code cell.\n",
        "\n",
        "**Why:** Prevents misalignment (wrong columns → wrong predictions).\n",
        "\n"
      ],
      "metadata": {
        "id": "RJl9rl_bVELG"
      }
    },
    {
      "cell_type": "code",
      "source": [
        "feature_order = list(X_train_final.columns)  # numeric (scaled) + categorical block\n"
      ],
      "metadata": {
        "id": "XoFR7LvSVVFf"
      },
      "execution_count": 25,
      "outputs": []
    },
    {
      "cell_type": "code",
      "source": [
        "feature_order"
      ],
      "metadata": {
        "colab": {
          "base_uri": "https://localhost:8080/"
        },
        "id": "pLPWnpWHZhNP",
        "outputId": "88acdc56-611a-4b35-9e70-04695bafcc13"
      },
      "execution_count": 26,
      "outputs": [
        {
          "output_type": "execute_result",
          "data": {
            "text/plain": [
              "['age',\n",
              " 'hours-per-week',\n",
              " 'education-num',\n",
              " 'capital-gain',\n",
              " 'capital-loss',\n",
              " 'sex',\n",
              " 'workclass_Federal-gov',\n",
              " 'workclass_Local-gov',\n",
              " 'workclass_Never-worked',\n",
              " 'workclass_Private',\n",
              " 'workclass_Self-emp-inc',\n",
              " 'workclass_Self-emp-not-inc',\n",
              " 'workclass_State-gov',\n",
              " 'workclass_Without-pay',\n",
              " 'marital-status_Divorced',\n",
              " 'marital-status_Married-AF-spouse',\n",
              " 'marital-status_Married-civ-spouse',\n",
              " 'marital-status_Married-spouse-absent',\n",
              " 'marital-status_Never-married',\n",
              " 'marital-status_Separated',\n",
              " 'marital-status_Widowed',\n",
              " 'occupation_Adm-clerical',\n",
              " 'occupation_Armed-Forces',\n",
              " 'occupation_Craft-repair',\n",
              " 'occupation_Exec-managerial',\n",
              " 'occupation_Farming-fishing',\n",
              " 'occupation_Handlers-cleaners',\n",
              " 'occupation_Machine-op-inspct',\n",
              " 'occupation_Other-service',\n",
              " 'occupation_Priv-house-serv',\n",
              " 'occupation_Prof-specialty',\n",
              " 'occupation_Protective-serv',\n",
              " 'occupation_Sales',\n",
              " 'occupation_Tech-support',\n",
              " 'occupation_Transport-moving',\n",
              " 'native-country_Cambodia',\n",
              " 'native-country_Canada',\n",
              " 'native-country_China',\n",
              " 'native-country_Columbia',\n",
              " 'native-country_Cuba',\n",
              " 'native-country_Dominican-Republic',\n",
              " 'native-country_Ecuador',\n",
              " 'native-country_El-Salvador',\n",
              " 'native-country_England',\n",
              " 'native-country_France',\n",
              " 'native-country_Germany',\n",
              " 'native-country_Greece',\n",
              " 'native-country_Guatemala',\n",
              " 'native-country_Haiti',\n",
              " 'native-country_Holand-Netherlands',\n",
              " 'native-country_Honduras',\n",
              " 'native-country_Hong',\n",
              " 'native-country_Hungary',\n",
              " 'native-country_India',\n",
              " 'native-country_Iran',\n",
              " 'native-country_Ireland',\n",
              " 'native-country_Italy',\n",
              " 'native-country_Jamaica',\n",
              " 'native-country_Japan',\n",
              " 'native-country_Laos',\n",
              " 'native-country_Mexico',\n",
              " 'native-country_Nicaragua',\n",
              " 'native-country_Outlying-US(Guam-USVI-etc)',\n",
              " 'native-country_Peru',\n",
              " 'native-country_Philippines',\n",
              " 'native-country_Poland',\n",
              " 'native-country_Portugal',\n",
              " 'native-country_Puerto-Rico',\n",
              " 'native-country_Scotland',\n",
              " 'native-country_South',\n",
              " 'native-country_Taiwan',\n",
              " 'native-country_Thailand',\n",
              " 'native-country_Trinadad&Tobago',\n",
              " 'native-country_United-States',\n",
              " 'native-country_Vietnam',\n",
              " 'native-country_Yugoslavia']"
            ]
          },
          "metadata": {},
          "execution_count": 26
        }
      ]
    },
    {
      "cell_type": "markdown",
      "source": [
        "---\n",
        "\n",
        "## Step 2 — Install & import Gradio\n",
        "We’ll use Gradio to make a small UI with sliders/dropdowns.\n",
        "\n",
        "**Action:**  \n",
        "- `!pip -q install gradio`  \n",
        "- `import gradio as gr` (+ `pandas`, `numpy` if needed)\n",
        "\n",
        "**Why:** Gradio handles the interface so we focus on ML logic.\n",
        "\n"
      ],
      "metadata": {
        "id": "8ajdBeHkVVgh"
      }
    },
    {
      "cell_type": "code",
      "source": [
        "!pip -q install gradio\n",
        "import gradio as gr\n",
        "#import pandas as pd\n",
        "#import numpy as np\n"
      ],
      "metadata": {
        "id": "NxkOnuklVmwB"
      },
      "execution_count": 9,
      "outputs": []
    },
    {
      "cell_type": "markdown",
      "source": [
        "---\n",
        "\n",
        "## Step 3 — Write a `preprocess_input(user_dict)` helper\n",
        "This function should:\n",
        "1. Build a one-row `DataFrame` from the raw UI inputs.\n",
        "2. **Numeric**: impute with `num_imputer` → scale with `scaler`.\n",
        "3. **Categorical**: impute with `cat_imputer` → label-encode the `\"sex\"` column with `le` → one-hot the rest with `ohe`.\n",
        "4. Concatenate numeric + categorical.\n",
        "5. Add any missing columns (fill with 0) and **reorder** using `feature_order`.\n",
        "6. Return a 1-row `DataFrame` ready for `rf.predict` / `rf.predict_proba`.\n",
        "\n",
        "**Why:** The app must apply **the same preprocessing** as training, learned on the train split only.\n",
        "\n"
      ],
      "metadata": {
        "id": "yh97mEN4VoSf"
      }
    },
    {
      "cell_type": "code",
      "source": [
        "def preprocess_input(user_dict):\n",
        "    \"\"\"\n",
        "    Apply the SAME transforms as train-time to a single-row user_dict and\n",
        "    return a 1-row DataFrame with columns exactly matching feature_order.\n",
        "    \"\"\"\n",
        "    # 1) Raw one-row frame\n",
        "    df_in = pd.DataFrame([user_dict])\n",
        "\n",
        "    # Convert None to np.nan for categorical columns before imputation\n",
        "    for col in categorical_features:\n",
        "        if col in df_in.columns:\n",
        "            df_in[col] = df_in[col].apply(lambda x: np.nan if x is None else x)\n",
        "\n",
        "\n",
        "    # 2) Numeric -> impute -> scale\n",
        "    Xn = pd.DataFrame(num_imputer.transform(df_in[numeric_features]),\n",
        "                      columns=numeric_features)\n",
        "    Xn_scaled = pd.DataFrame(scaler.transform(Xn), columns=numeric_features)\n",
        "\n",
        "    # 3) Categorical -> impute -> label-encode ONE col -> one-hot the rest\n",
        "    df_cat = df_in[categorical_features].copy()\n",
        "    df_cat = pd.DataFrame(cat_imputer.transform(df_cat),\n",
        "                          columns= categorical_features)\n",
        "\n",
        "    # Label-encode the chosen column (assumes no unseen categories)\n",
        "    # We need to handle potential NaNs introduced by imputation before label encoding\n",
        "    df_cat[label_encode_col] = le.transform(df_cat[label_encode_col].astype(str)) # Convert to string to handle potential NaNs\n",
        "\n",
        "\n",
        "    # one-hot the remaining categoricals (trained with handle_unknown=\"ignore\")\n",
        "    Xc_ohe = pd.DataFrame(\n",
        "        ohe.transform(df_cat[onehot_cols]),\n",
        "        columns=ohe.get_feature_names_out(onehot_cols)\n",
        "    )\n",
        "\n",
        "    # final categorical block = label-encoded col + one-hot block\n",
        "    Xc_final = pd.concat(\n",
        "        [df_cat[[label_encode_col]].reset_index(drop=True),\n",
        "         Xc_ohe.reset_index(drop=True)],\n",
        "        axis=1\n",
        "    )\n",
        "\n",
        "    # 4) Assemble numeric + categorical\n",
        "    X_final = pd.concat(\n",
        "        [Xn_scaled.reset_index(drop=True), Xc_final.reset_index(drop=True)],\n",
        "        axis=1\n",
        "    )\n",
        "\n",
        "    # 5) Enforce EXACT training columns & order in ONE step\n",
        "    # - drops any extra columns\n",
        "    # - inserts any missing one-hot columns filled with 0\n",
        "    #X_final = X_final.reindex(columns=feature_order, fill_value=0)\n",
        "    # at end of preprocess_input\n",
        "    expected_cols = list(getattr(rf, \"feature_names_in_\", feature_order))\n",
        "    #made it feature order instead of expected_cols\n",
        "    X_final = X_final.reindex(columns=feature_order, fill_value=0)\n",
        "    return X_final\n",
        "\n",
        "\n",
        "    #return X_final"
      ],
      "metadata": {
        "id": "VispYLHnVuvh"
      },
      "execution_count": 30,
      "outputs": []
    },
    {
      "cell_type": "markdown",
      "source": [
        "---\n",
        "\n",
        "## Step 4 — Write the `predict(...)` function\n",
        "Keep the UI compact (start with 5 inputs). Good defaults for the rest are fine.\n",
        "\n",
        "**Inputs to expose (suggested):**\n",
        "- `age` (slider)\n",
        "- `hours_per_week` (slider)\n",
        "- `education_num` (slider)\n",
        "- `sex` (radio from training categories)\n",
        "- `workclass` (dropdown from training categories)\n",
        "\n",
        "**Inside `predict`:**\n",
        "- Build a `raw` dict from those inputs (plus reasonable defaults for other features).\n",
        "- Call `preprocess_input(raw)` → `Xf`.\n",
        "- Use `rf.predict(Xf)` for the label.\n",
        "- If available, use `rf.predict_proba(Xf)` and show **P(>50K)**.\n",
        "\n",
        "**Why:** Labels are decisive; probabilities show **confidence** and open the door to threshold choices.\n",
        "\n"
      ],
      "metadata": {
        "id": "NrdRsVt0VvT6"
      }
    },
    {
      "cell_type": "code",
      "source": [
        "import plotly.express as px\n",
        "# Simple prediction function returning label + probability of >50K if available\n",
        "def predict(age, hours_per_week, education_num, sex, workclass, marital_status, occupation, native_country, n_features, threshold, model_choice):\n",
        "    raw = {\n",
        "        \"age\": age,\n",
        "        \"hours-per-week\": hours_per_week,\n",
        "        \"education-num\": education_num,\n",
        "        \"sex\": sex,               # label-encoded column\n",
        "        \"workclass\": workclass,   # one-hot\n",
        "        # Defaults for demo (you can expose these later in the UI)\n",
        "        \"marital-status\": marital_status,\n",
        "        \"occupation\": occupation,\n",
        "        \"native-country\": native_country,\n",
        "        \"capital-gain\": 0,\n",
        "        \"capital-loss\": 0,\n",
        "        'n-features': n_features,\n",
        "        'threshold': threshold\n",
        "    }\n",
        "    Xf = preprocess_input(raw)\n",
        "\n",
        "    if model_choice == \"Random Forest\":\n",
        "        model = rf\n",
        "    elif model_choice == \"SVM\":\n",
        "        # For SVM, we need to use the downsampled data's shape for consistency if needed\n",
        "        # but the preprocessor should handle the original dimensions.\n",
        "        # Let's assume clf_svm is trained on the same feature space as rf for simplicity\n",
        "        # If not, additional preprocessing/handling would be needed here.\n",
        "        model = clf_svm\n",
        "        # SVMs don't have predict_proba by default unless probability=True is set.\n",
        "        # For simplicity, we'll handle predict_proba specifically for RF.\n",
        "\n",
        "\n",
        "    label = model.predict(Xf)[0]\n",
        "    # pre = label>threshold # This line seems incorrect for classification labels\n",
        "    # out = f\"Prediction: {pre[1]}\" # This line seems incorrect\n",
        "\n",
        "    out = f\"Prediction: {label}\"\n",
        "\n",
        "    fig = None # Initialize fig to None\n",
        "\n",
        "    if model_choice == \"Random Forest\" and hasattr(model, \"predict_proba\"):\n",
        "        classes = list(model.classes_)\n",
        "        proba = model.predict_proba(Xf)[0]\n",
        "        # Show the probability of >50K if that class exists\n",
        "        if \">50K\" in classes:\n",
        "            p = proba[classes.index(\">50K\")]\n",
        "            # Apply threshold for RF\n",
        "            predicted_class = \">50K\" if p >= threshold else \"<=50K\"\n",
        "            out = f\"Prediction: {predicted_class} | P(>50K) = {p:.2f}\"\n",
        "\n",
        "\n",
        "        # Feature importances (only for Random Forest)\n",
        "        if hasattr(model, \"feature_importances_\"):\n",
        "            importances = pd.Series(model.feature_importances_, index=X_train_final.columns).sort_values(ascending=False).head(10).reset_index()\n",
        "            importances.columns = ['Feature', 'Importance']\n",
        "\n",
        "            fig = px.bar(importances, x='Feature', y='Importance', title=f'Top 10 Feature Importances ({model_choice})')\n",
        "            fig.update_layout(\n",
        "                xaxis_tickangle=-45,\n",
        "                xaxis_title=None,\n",
        "                yaxis_title=None\n",
        "            )\n",
        "    elif model_choice == \"SVM\":\n",
        "        # For SVM, we just show the predicted label\n",
        "        pass # out is already set to the predicted label\n",
        "\n",
        "\n",
        "    return [out, fig]"
      ],
      "metadata": {
        "id": "2L5CpVF2V7-V"
      },
      "execution_count": 31,
      "outputs": []
    },
    {
      "cell_type": "code",
      "source": [
        "import pickle\n",
        "\n",
        "# Load the model package\n",
        "with open('/content/drive/MyDrive/ADS2Isabella/model_package2.pkl', 'rb') as f:\n",
        "    model_package = pickle.load(f)\n",
        "\n",
        "# Extract the clf_svm model from the loaded package\n",
        "# Assuming the models are stored in a set in the 'model' key\n",
        "for model in model_package['model']:\n",
        "    if isinstance(model, SVC):\n",
        "        clf_svm = model\n",
        "        break\n",
        "\n",
        "print(\"SVM model loaded from pickle file.\")"
      ],
      "metadata": {
        "colab": {
          "base_uri": "https://localhost:8080/"
        },
        "id": "ZGo4kjj3MaLf",
        "outputId": "cdd8a65a-9bd9-4acd-d014-9f48f0025c11"
      },
      "execution_count": 39,
      "outputs": [
        {
          "output_type": "stream",
          "name": "stdout",
          "text": [
            "SVM model loaded from pickle file.\n"
          ]
        }
      ]
    },
    {
      "cell_type": "markdown",
      "source": [
        "---\n",
        "\n",
        "## Step 5 — Build the UI and launch\n",
        "- Pull choices for `sex` and `workclass` from the **training data** (so no unseen categories).\n",
        "- Create a `gr.Interface(fn=predict, inputs=[...], outputs=\"text\")`.\n",
        "- Call `demo.launch(share=True)` (use `share=False` if tunnels are blocked).\n",
        "\n",
        "\n"
      ],
      "metadata": {
        "id": "OUQnShGAV9Of"
      }
    },
    {
      "cell_type": "code",
      "source": [
        "# Use categories from your training set (already imputed)\n",
        "marital_status_choices = sorted(pd.unique(X_train[\"marital-status\"].dropna()))\n",
        "occupation_choices = sorted(pd.unique(X_train[\"occupation\"].dropna()))\n",
        "native_country_choices = sorted(pd.unique(X_train[\"native-country\"].dropna()))\n",
        "workclass_choices = sorted(pd.unique(X_train[\"workclass\"].dropna()))\n",
        "sex_choices = sorted(pd.unique(X_train[\"sex\"].dropna()))\n",
        "\n",
        "\n",
        "with gr.Blocks(theme=gr.themes.Ocean()) as demo:\n",
        "  with gr.Row():\n",
        "    with gr.Column():\n",
        "\n",
        "        model_choice = gr.Radio([\"Random Forest\", \"SVM\"], label=\"Choose Model\", value=\"Random Forest\") # Add model choice radio button\n",
        "        age = gr.Slider(17, 90, value=37, step=1, label=\"Age\")\n",
        "        sex = gr.Radio(list(sex_choices), label=\"Sex\") # Set a default value from the training data\n",
        "        workclass = gr.Dropdown(list(workclass_choices), label=\"Workclass\")\n",
        "        occupation = gr.Dropdown(list(occupation_choices), label=\"Occupation\")\n",
        "        hours_per_week = gr.Slider(1, 80, value=40, step=1, label=\"Hours per week you work\")\n",
        "        education_num = gr.Slider(1, 16, value=10, step=1, label=\"Education level\")\n",
        "        marital_status = gr.Dropdown(list(marital_status_choices), label=\"Marital status\")\n",
        "        native_country = gr.Dropdown(list(native_country_choices), label=\"Native Country\")\n",
        "        n_features = gr.Slider(1, 76, value=10, step=1, label='Number of features', visible=False) # Hide n_features slider\n",
        "        threshold = gr.Slider(0.0, 1.0, value=0.5, step=0.01, label=\"Decision Threshold for >50K\")\n",
        "\n",
        "        predict_button = gr.Button(\"Predict\")\n",
        "\n",
        "    with gr.Column():\n",
        "      output = gr.Textbox(label='Model Output')\n",
        "      plot = gr.Plot(label=['Feature Importances'])\n",
        "\n",
        "    predict_button.click(fn=predict,\n",
        "                         inputs=[age, hours_per_week, education_num, sex, workclass, marital_status, occupation, native_country, n_features, threshold, model_choice],\n",
        "                         outputs = [output, plot])\n",
        "\n",
        "\n",
        "demo.launch(share=True, show_error=True)  # use share=False if school network blocks external tunnels"
      ],
      "metadata": {
        "id": "yN_wvjzIWVzu",
        "colab": {
          "base_uri": "https://localhost:8080/",
          "height": 612
        },
        "outputId": "b7c0721a-4aa7-482d-f1bd-098ab84f9e1e"
      },
      "execution_count": 40,
      "outputs": [
        {
          "output_type": "stream",
          "name": "stdout",
          "text": [
            "Colab notebook detected. To show errors in colab notebook, set debug=True in launch()\n",
            "* Running on public URL: https://3484877022aa248886.gradio.live\n",
            "\n",
            "This share link expires in 1 week. For free permanent hosting and GPU upgrades, run `gradio deploy` from the terminal in the working directory to deploy to Hugging Face Spaces (https://huggingface.co/spaces)\n"
          ]
        },
        {
          "output_type": "display_data",
          "data": {
            "text/plain": [
              "<IPython.core.display.HTML object>"
            ],
            "text/html": [
              "<div><iframe src=\"https://3484877022aa248886.gradio.live\" width=\"100%\" height=\"500\" allow=\"autoplay; camera; microphone; clipboard-read; clipboard-write;\" frameborder=\"0\" allowfullscreen></iframe></div>"
            ]
          },
          "metadata": {}
        },
        {
          "output_type": "execute_result",
          "data": {
            "text/plain": []
          },
          "metadata": {},
          "execution_count": 40
        }
      ]
    },
    {
      "cell_type": "code",
      "source": [
        "def get_feature_importance():\n",
        "    importances = pd.Series(rf.feature_importances_, index=X_train_final.columns).sort_values(ascending=False).head(10).reset_index()"
      ],
      "metadata": {
        "id": "ZTBz1Z3inF0s"
      },
      "execution_count": null,
      "outputs": []
    },
    {
      "cell_type": "code",
      "source": [
        "demo_2 = gr.Interface(\n",
        "    fn=get_feature_importance,\n",
        "    inputs=[],\n",
        "    outputs='dataframe',\n",
        "    title=\"Top 10 Feature Importances\",\n",
        "    description=\"Shows the top 10 features based on the trained Random Forest model.\"\n",
        ")"
      ],
      "metadata": {
        "id": "gqa-iUHqP_UP"
      },
      "execution_count": null,
      "outputs": []
    },
    {
      "cell_type": "code",
      "source": [
        "demo_2.launch()"
      ],
      "metadata": {
        "id": "IMkyhnuiiP2Q"
      },
      "execution_count": null,
      "outputs": []
    },
    {
      "cell_type": "code",
      "source": [],
      "metadata": {
        "id": "pFqVTfPSJk1r"
      },
      "execution_count": null,
      "outputs": []
    },
    {
      "cell_type": "markdown",
      "source": [
        "---\n",
        "\n",
        "## 🌟 Stretch Challenge (pick one)\n",
        "\n",
        "### A) Add more inputs\n",
        "Expose `marital-status` and/or `occupation` in the UI. Update `predict` to pass them through `preprocess_input`.\n",
        "\n",
        "**Hint:** Keep categorical choices from the training set to avoid unseen-label errors.\n",
        "\n",
        "---\n",
        "\n",
        "### B) Show **feature importance** (top-k)\n",
        "After training, RF has `rf.feature_importances_`. Let users click a button to see the **top 10 features** your model relied on.\n",
        "\n",
        "**How:**\n",
        "- Create a small function that returns a table or text of the top-k from:\n",
        "  - `pd.Series(rf.feature_importances_, index=X_train_final.columns).sort_values(ascending=False).head(10)`\n",
        "\n",
        "**Optional UI idea:**\n",
        "- Add a secondary `gr.Interface` or a `gr.Tab` / `gr.Accordion` that calls this function (e.g., `outputs=\"dataframe\"` or text).\n",
        "- Ask: *Does importance change if you retrain with different hyperparameters?*\n",
        "\n",
        "> Note: RF importances are heuristic; they’re useful for discussion, not a complete story (advanced: SHAP later).\n",
        "\n",
        "---\n",
        "\n",
        "### C) Precision vs Recall slider (advanced)\n",
        "Let the user pick a **threshold** for classifying `>50K` using `predict_proba`. Show how higher thresholds **increase precision** but **decrease recall**.\n",
        "\n",
        "**How:**\n",
        "- Add a slider 0.0–1.0 (“Decision Threshold for >50K”).\n",
        "- If `P(>50K) ≥ threshold` → predict `>50K`, else `<=50K`.\n",
        "\n",
        "**Discuss:** When would you prefer high precision vs high recall in a real app?\n",
        "\n",
        "---\n",
        "\n",
        "## Troubleshooting Tips\n",
        "- **“unseen label” errors**: Make sure UI choices (e.g., `sex`, `workclass`) come from training categories.  \n",
        "- **Wrong feature order**: Always reorder with `feature_order` before predicting.  \n",
        "- **Variables not defined**: Re-run training/preprocessing cells above or import from your previous notebook.\n",
        "\n",
        "---\n",
        "\n",
        "### Exit Ticket (today)\n",
        "- Launch your app and test 3 scenarios.\n",
        "- Paste one app screenshot + a 2–3 sentence reflection in `students/experiment_log.md`."
      ],
      "metadata": {
        "id": "Z8xbiUF1WhMr"
      }
    },
    {
      "cell_type": "code",
      "source": [
        "pd.Series(rf.feature_importances_, index=X_train_final.columns).sort_values(ascending=False).head(10)"
      ],
      "metadata": {
        "id": "VACRMfjSIs0z"
      },
      "execution_count": null,
      "outputs": []
    },
    {
      "cell_type": "code",
      "source": [
        "rf.feature_importances_"
      ],
      "metadata": {
        "id": "WSRo7nOZIoSt"
      },
      "execution_count": null,
      "outputs": []
    },
    {
      "cell_type": "code",
      "source": [
        "from google.colab import drive\n",
        "drive.mount('/content/drive') # Mount your drive"
      ],
      "metadata": {
        "id": "jnztFD7qRfVU",
        "outputId": "aff78268-22d8-41e0-e9e2-b889db80e92b",
        "colab": {
          "base_uri": "https://localhost:8080/"
        }
      },
      "execution_count": 13,
      "outputs": [
        {
          "output_type": "stream",
          "name": "stdout",
          "text": [
            "Mounted at /content/drive\n"
          ]
        }
      ]
    },
    {
      "cell_type": "code",
      "source": [
        "#change directory to where you want the model to be saved in your drive\n",
        "%cd /content/drive/MyDrive/ADS2Isabella"
      ],
      "metadata": {
        "id": "pF5dLDmORh-1",
        "outputId": "2800207d-e38c-4a09-c71c-09feb566afbe",
        "colab": {
          "base_uri": "https://localhost:8080/"
        }
      },
      "execution_count": 14,
      "outputs": [
        {
          "output_type": "stream",
          "name": "stdout",
          "text": [
            "/content/drive/MyDrive/ADS2Isabella\n"
          ]
        }
      ]
    },
    {
      "cell_type": "code",
      "source": [
        "import pickle\n",
        "\n",
        "print(\"SAVING COMPLETE MODEL PACKAGE\")\n",
        "print(\"=\" * 50)\n",
        "\n",
        "# Create a complete model package\n",
        "model_package = {\n",
        "    'model': rf,\n",
        "    'preprocessors': {\n",
        "        'num_imputer': num_imputer,\n",
        "        'scaler': scaler,\n",
        "        'cat_imputer': cat_imputer,\n",
        "        'label_encoder': le,\n",
        "        'onehot_encoder': ohe\n",
        "    },\n",
        "    'data': {\n",
        "        'X_train': X_train_final,\n",
        "        'X_test': X_test_final,\n",
        "        'y_train': y_train,\n",
        "        'y_test': y_test\n",
        "    }\n",
        "}\n",
        "\n",
        "\n",
        "with open('model_package.pkl', 'wb') as f:\n",
        "    pickle.dump(model_package, f)\n",
        "\n",
        "print(\"Saved: model_package.pkl\")"
      ],
      "metadata": {
        "id": "WyTfDCiPRyAo",
        "outputId": "f00cad2a-7249-44f4-bf3f-dcf7d03a412a",
        "colab": {
          "base_uri": "https://localhost:8080/"
        }
      },
      "execution_count": null,
      "outputs": [
        {
          "output_type": "stream",
          "name": "stdout",
          "text": [
            "SAVING COMPLETE MODEL PACKAGE\n",
            "==================================================\n",
            "Saved: model_package.pkl\n"
          ]
        }
      ]
    },
    {
      "cell_type": "code",
      "source": [
        "from sklearn.svm import SVC # this will make a support vector machine for classification"
      ],
      "metadata": {
        "id": "19q3QwhAoLMZ"
      },
      "execution_count": 15,
      "outputs": []
    },
    {
      "cell_type": "code",
      "source": [
        "y_train_baller_bool = y_train == '>50K'\n",
        "X_train_baller = X_train_final.reset_index(drop=True).loc[y_train_baller_bool.reset_index(drop=True)]\n",
        "\n",
        "y_train_notballer_bool = y_train == '<=50K'\n",
        "X_train_notballer = X_train_final.reset_index(drop=True).loc[y_train_notballer_bool.reset_index(drop=True)]"
      ],
      "metadata": {
        "id": "81skmdB4rFeP"
      },
      "execution_count": null,
      "outputs": []
    },
    {
      "cell_type": "code",
      "source": [
        "from sklearn.utils import resample"
      ],
      "metadata": {
        "id": "y0jT6nKjtfo4"
      },
      "execution_count": 17,
      "outputs": []
    },
    {
      "cell_type": "code",
      "source": [],
      "metadata": {
        "id": "9zC-inefVnX0"
      },
      "execution_count": null,
      "outputs": []
    },
    {
      "cell_type": "code",
      "source": [
        "X_train_downsampled, y_train_downsampled = resample(X_train_final, y_train,\n",
        "                                                    replace=False,\n",
        "                                                    n_samples=1000,\n",
        "                                                    random_state=42,\n",
        "                                                    stratify=y_train)\n",
        "\n",
        "X_test_downsampled, y_test_downsampled = resample(X_test_final, y_test,\n",
        "                                                  replace=False,\n",
        "                                                  n_samples=1000,\n",
        "                                                  random_state=42,\n",
        "                                                  stratify=y_test)"
      ],
      "metadata": {
        "id": "Un7yh2SQSKsf"
      },
      "execution_count": 34,
      "outputs": []
    },
    {
      "cell_type": "code",
      "source": [
        "clf_svm = SVC(random_state=42)\n",
        "clf_svm.fit(X_train_downsampled, y_train_downsampled)"
      ],
      "metadata": {
        "colab": {
          "base_uri": "https://localhost:8080/",
          "height": 80
        },
        "id": "g0BW4KoXn75i",
        "outputId": "7df89e93-4718-4496-e72a-27d693ebb801"
      },
      "execution_count": 35,
      "outputs": [
        {
          "output_type": "execute_result",
          "data": {
            "text/plain": [
              "SVC(random_state=42)"
            ],
            "text/html": [
              "<style>#sk-container-id-1 {\n",
              "  /* Definition of color scheme common for light and dark mode */\n",
              "  --sklearn-color-text: #000;\n",
              "  --sklearn-color-text-muted: #666;\n",
              "  --sklearn-color-line: gray;\n",
              "  /* Definition of color scheme for unfitted estimators */\n",
              "  --sklearn-color-unfitted-level-0: #fff5e6;\n",
              "  --sklearn-color-unfitted-level-1: #f6e4d2;\n",
              "  --sklearn-color-unfitted-level-2: #ffe0b3;\n",
              "  --sklearn-color-unfitted-level-3: chocolate;\n",
              "  /* Definition of color scheme for fitted estimators */\n",
              "  --sklearn-color-fitted-level-0: #f0f8ff;\n",
              "  --sklearn-color-fitted-level-1: #d4ebff;\n",
              "  --sklearn-color-fitted-level-2: #b3dbfd;\n",
              "  --sklearn-color-fitted-level-3: cornflowerblue;\n",
              "\n",
              "  /* Specific color for light theme */\n",
              "  --sklearn-color-text-on-default-background: var(--sg-text-color, var(--theme-code-foreground, var(--jp-content-font-color1, black)));\n",
              "  --sklearn-color-background: var(--sg-background-color, var(--theme-background, var(--jp-layout-color0, white)));\n",
              "  --sklearn-color-border-box: var(--sg-text-color, var(--theme-code-foreground, var(--jp-content-font-color1, black)));\n",
              "  --sklearn-color-icon: #696969;\n",
              "\n",
              "  @media (prefers-color-scheme: dark) {\n",
              "    /* Redefinition of color scheme for dark theme */\n",
              "    --sklearn-color-text-on-default-background: var(--sg-text-color, var(--theme-code-foreground, var(--jp-content-font-color1, white)));\n",
              "    --sklearn-color-background: var(--sg-background-color, var(--theme-background, var(--jp-layout-color0, #111)));\n",
              "    --sklearn-color-border-box: var(--sg-text-color, var(--theme-code-foreground, var(--jp-content-font-color1, white)));\n",
              "    --sklearn-color-icon: #878787;\n",
              "  }\n",
              "}\n",
              "\n",
              "#sk-container-id-1 {\n",
              "  color: var(--sklearn-color-text);\n",
              "}\n",
              "\n",
              "#sk-container-id-1 pre {\n",
              "  padding: 0;\n",
              "}\n",
              "\n",
              "#sk-container-id-1 input.sk-hidden--visually {\n",
              "  border: 0;\n",
              "  clip: rect(1px 1px 1px 1px);\n",
              "  clip: rect(1px, 1px, 1px, 1px);\n",
              "  height: 1px;\n",
              "  margin: -1px;\n",
              "  overflow: hidden;\n",
              "  padding: 0;\n",
              "  position: absolute;\n",
              "  width: 1px;\n",
              "}\n",
              "\n",
              "#sk-container-id-1 div.sk-dashed-wrapped {\n",
              "  border: 1px dashed var(--sklearn-color-line);\n",
              "  margin: 0 0.4em 0.5em 0.4em;\n",
              "  box-sizing: border-box;\n",
              "  padding-bottom: 0.4em;\n",
              "  background-color: var(--sklearn-color-background);\n",
              "}\n",
              "\n",
              "#sk-container-id-1 div.sk-container {\n",
              "  /* jupyter's `normalize.less` sets `[hidden] { display: none; }`\n",
              "     but bootstrap.min.css set `[hidden] { display: none !important; }`\n",
              "     so we also need the `!important` here to be able to override the\n",
              "     default hidden behavior on the sphinx rendered scikit-learn.org.\n",
              "     See: https://github.com/scikit-learn/scikit-learn/issues/21755 */\n",
              "  display: inline-block !important;\n",
              "  position: relative;\n",
              "}\n",
              "\n",
              "#sk-container-id-1 div.sk-text-repr-fallback {\n",
              "  display: none;\n",
              "}\n",
              "\n",
              "div.sk-parallel-item,\n",
              "div.sk-serial,\n",
              "div.sk-item {\n",
              "  /* draw centered vertical line to link estimators */\n",
              "  background-image: linear-gradient(var(--sklearn-color-text-on-default-background), var(--sklearn-color-text-on-default-background));\n",
              "  background-size: 2px 100%;\n",
              "  background-repeat: no-repeat;\n",
              "  background-position: center center;\n",
              "}\n",
              "\n",
              "/* Parallel-specific style estimator block */\n",
              "\n",
              "#sk-container-id-1 div.sk-parallel-item::after {\n",
              "  content: \"\";\n",
              "  width: 100%;\n",
              "  border-bottom: 2px solid var(--sklearn-color-text-on-default-background);\n",
              "  flex-grow: 1;\n",
              "}\n",
              "\n",
              "#sk-container-id-1 div.sk-parallel {\n",
              "  display: flex;\n",
              "  align-items: stretch;\n",
              "  justify-content: center;\n",
              "  background-color: var(--sklearn-color-background);\n",
              "  position: relative;\n",
              "}\n",
              "\n",
              "#sk-container-id-1 div.sk-parallel-item {\n",
              "  display: flex;\n",
              "  flex-direction: column;\n",
              "}\n",
              "\n",
              "#sk-container-id-1 div.sk-parallel-item:first-child::after {\n",
              "  align-self: flex-end;\n",
              "  width: 50%;\n",
              "}\n",
              "\n",
              "#sk-container-id-1 div.sk-parallel-item:last-child::after {\n",
              "  align-self: flex-start;\n",
              "  width: 50%;\n",
              "}\n",
              "\n",
              "#sk-container-id-1 div.sk-parallel-item:only-child::after {\n",
              "  width: 0;\n",
              "}\n",
              "\n",
              "/* Serial-specific style estimator block */\n",
              "\n",
              "#sk-container-id-1 div.sk-serial {\n",
              "  display: flex;\n",
              "  flex-direction: column;\n",
              "  align-items: center;\n",
              "  background-color: var(--sklearn-color-background);\n",
              "  padding-right: 1em;\n",
              "  padding-left: 1em;\n",
              "}\n",
              "\n",
              "\n",
              "/* Toggleable style: style used for estimator/Pipeline/ColumnTransformer box that is\n",
              "clickable and can be expanded/collapsed.\n",
              "- Pipeline and ColumnTransformer use this feature and define the default style\n",
              "- Estimators will overwrite some part of the style using the `sk-estimator` class\n",
              "*/\n",
              "\n",
              "/* Pipeline and ColumnTransformer style (default) */\n",
              "\n",
              "#sk-container-id-1 div.sk-toggleable {\n",
              "  /* Default theme specific background. It is overwritten whether we have a\n",
              "  specific estimator or a Pipeline/ColumnTransformer */\n",
              "  background-color: var(--sklearn-color-background);\n",
              "}\n",
              "\n",
              "/* Toggleable label */\n",
              "#sk-container-id-1 label.sk-toggleable__label {\n",
              "  cursor: pointer;\n",
              "  display: flex;\n",
              "  width: 100%;\n",
              "  margin-bottom: 0;\n",
              "  padding: 0.5em;\n",
              "  box-sizing: border-box;\n",
              "  text-align: center;\n",
              "  align-items: start;\n",
              "  justify-content: space-between;\n",
              "  gap: 0.5em;\n",
              "}\n",
              "\n",
              "#sk-container-id-1 label.sk-toggleable__label .caption {\n",
              "  font-size: 0.6rem;\n",
              "  font-weight: lighter;\n",
              "  color: var(--sklearn-color-text-muted);\n",
              "}\n",
              "\n",
              "#sk-container-id-1 label.sk-toggleable__label-arrow:before {\n",
              "  /* Arrow on the left of the label */\n",
              "  content: \"▸\";\n",
              "  float: left;\n",
              "  margin-right: 0.25em;\n",
              "  color: var(--sklearn-color-icon);\n",
              "}\n",
              "\n",
              "#sk-container-id-1 label.sk-toggleable__label-arrow:hover:before {\n",
              "  color: var(--sklearn-color-text);\n",
              "}\n",
              "\n",
              "/* Toggleable content - dropdown */\n",
              "\n",
              "#sk-container-id-1 div.sk-toggleable__content {\n",
              "  max-height: 0;\n",
              "  max-width: 0;\n",
              "  overflow: hidden;\n",
              "  text-align: left;\n",
              "  /* unfitted */\n",
              "  background-color: var(--sklearn-color-unfitted-level-0);\n",
              "}\n",
              "\n",
              "#sk-container-id-1 div.sk-toggleable__content.fitted {\n",
              "  /* fitted */\n",
              "  background-color: var(--sklearn-color-fitted-level-0);\n",
              "}\n",
              "\n",
              "#sk-container-id-1 div.sk-toggleable__content pre {\n",
              "  margin: 0.2em;\n",
              "  border-radius: 0.25em;\n",
              "  color: var(--sklearn-color-text);\n",
              "  /* unfitted */\n",
              "  background-color: var(--sklearn-color-unfitted-level-0);\n",
              "}\n",
              "\n",
              "#sk-container-id-1 div.sk-toggleable__content.fitted pre {\n",
              "  /* unfitted */\n",
              "  background-color: var(--sklearn-color-fitted-level-0);\n",
              "}\n",
              "\n",
              "#sk-container-id-1 input.sk-toggleable__control:checked~div.sk-toggleable__content {\n",
              "  /* Expand drop-down */\n",
              "  max-height: 200px;\n",
              "  max-width: 100%;\n",
              "  overflow: auto;\n",
              "}\n",
              "\n",
              "#sk-container-id-1 input.sk-toggleable__control:checked~label.sk-toggleable__label-arrow:before {\n",
              "  content: \"▾\";\n",
              "}\n",
              "\n",
              "/* Pipeline/ColumnTransformer-specific style */\n",
              "\n",
              "#sk-container-id-1 div.sk-label input.sk-toggleable__control:checked~label.sk-toggleable__label {\n",
              "  color: var(--sklearn-color-text);\n",
              "  background-color: var(--sklearn-color-unfitted-level-2);\n",
              "}\n",
              "\n",
              "#sk-container-id-1 div.sk-label.fitted input.sk-toggleable__control:checked~label.sk-toggleable__label {\n",
              "  background-color: var(--sklearn-color-fitted-level-2);\n",
              "}\n",
              "\n",
              "/* Estimator-specific style */\n",
              "\n",
              "/* Colorize estimator box */\n",
              "#sk-container-id-1 div.sk-estimator input.sk-toggleable__control:checked~label.sk-toggleable__label {\n",
              "  /* unfitted */\n",
              "  background-color: var(--sklearn-color-unfitted-level-2);\n",
              "}\n",
              "\n",
              "#sk-container-id-1 div.sk-estimator.fitted input.sk-toggleable__control:checked~label.sk-toggleable__label {\n",
              "  /* fitted */\n",
              "  background-color: var(--sklearn-color-fitted-level-2);\n",
              "}\n",
              "\n",
              "#sk-container-id-1 div.sk-label label.sk-toggleable__label,\n",
              "#sk-container-id-1 div.sk-label label {\n",
              "  /* The background is the default theme color */\n",
              "  color: var(--sklearn-color-text-on-default-background);\n",
              "}\n",
              "\n",
              "/* On hover, darken the color of the background */\n",
              "#sk-container-id-1 div.sk-label:hover label.sk-toggleable__label {\n",
              "  color: var(--sklearn-color-text);\n",
              "  background-color: var(--sklearn-color-unfitted-level-2);\n",
              "}\n",
              "\n",
              "/* Label box, darken color on hover, fitted */\n",
              "#sk-container-id-1 div.sk-label.fitted:hover label.sk-toggleable__label.fitted {\n",
              "  color: var(--sklearn-color-text);\n",
              "  background-color: var(--sklearn-color-fitted-level-2);\n",
              "}\n",
              "\n",
              "/* Estimator label */\n",
              "\n",
              "#sk-container-id-1 div.sk-label label {\n",
              "  font-family: monospace;\n",
              "  font-weight: bold;\n",
              "  display: inline-block;\n",
              "  line-height: 1.2em;\n",
              "}\n",
              "\n",
              "#sk-container-id-1 div.sk-label-container {\n",
              "  text-align: center;\n",
              "}\n",
              "\n",
              "/* Estimator-specific */\n",
              "#sk-container-id-1 div.sk-estimator {\n",
              "  font-family: monospace;\n",
              "  border: 1px dotted var(--sklearn-color-border-box);\n",
              "  border-radius: 0.25em;\n",
              "  box-sizing: border-box;\n",
              "  margin-bottom: 0.5em;\n",
              "  /* unfitted */\n",
              "  background-color: var(--sklearn-color-unfitted-level-0);\n",
              "}\n",
              "\n",
              "#sk-container-id-1 div.sk-estimator.fitted {\n",
              "  /* fitted */\n",
              "  background-color: var(--sklearn-color-fitted-level-0);\n",
              "}\n",
              "\n",
              "/* on hover */\n",
              "#sk-container-id-1 div.sk-estimator:hover {\n",
              "  /* unfitted */\n",
              "  background-color: var(--sklearn-color-unfitted-level-2);\n",
              "}\n",
              "\n",
              "#sk-container-id-1 div.sk-estimator.fitted:hover {\n",
              "  /* fitted */\n",
              "  background-color: var(--sklearn-color-fitted-level-2);\n",
              "}\n",
              "\n",
              "/* Specification for estimator info (e.g. \"i\" and \"?\") */\n",
              "\n",
              "/* Common style for \"i\" and \"?\" */\n",
              "\n",
              ".sk-estimator-doc-link,\n",
              "a:link.sk-estimator-doc-link,\n",
              "a:visited.sk-estimator-doc-link {\n",
              "  float: right;\n",
              "  font-size: smaller;\n",
              "  line-height: 1em;\n",
              "  font-family: monospace;\n",
              "  background-color: var(--sklearn-color-background);\n",
              "  border-radius: 1em;\n",
              "  height: 1em;\n",
              "  width: 1em;\n",
              "  text-decoration: none !important;\n",
              "  margin-left: 0.5em;\n",
              "  text-align: center;\n",
              "  /* unfitted */\n",
              "  border: var(--sklearn-color-unfitted-level-1) 1pt solid;\n",
              "  color: var(--sklearn-color-unfitted-level-1);\n",
              "}\n",
              "\n",
              ".sk-estimator-doc-link.fitted,\n",
              "a:link.sk-estimator-doc-link.fitted,\n",
              "a:visited.sk-estimator-doc-link.fitted {\n",
              "  /* fitted */\n",
              "  border: var(--sklearn-color-fitted-level-1) 1pt solid;\n",
              "  color: var(--sklearn-color-fitted-level-1);\n",
              "}\n",
              "\n",
              "/* On hover */\n",
              "div.sk-estimator:hover .sk-estimator-doc-link:hover,\n",
              ".sk-estimator-doc-link:hover,\n",
              "div.sk-label-container:hover .sk-estimator-doc-link:hover,\n",
              ".sk-estimator-doc-link:hover {\n",
              "  /* unfitted */\n",
              "  background-color: var(--sklearn-color-unfitted-level-3);\n",
              "  color: var(--sklearn-color-background);\n",
              "  text-decoration: none;\n",
              "}\n",
              "\n",
              "div.sk-estimator.fitted:hover .sk-estimator-doc-link.fitted:hover,\n",
              ".sk-estimator-doc-link.fitted:hover,\n",
              "div.sk-label-container:hover .sk-estimator-doc-link.fitted:hover,\n",
              ".sk-estimator-doc-link.fitted:hover {\n",
              "  /* fitted */\n",
              "  background-color: var(--sklearn-color-fitted-level-3);\n",
              "  color: var(--sklearn-color-background);\n",
              "  text-decoration: none;\n",
              "}\n",
              "\n",
              "/* Span, style for the box shown on hovering the info icon */\n",
              ".sk-estimator-doc-link span {\n",
              "  display: none;\n",
              "  z-index: 9999;\n",
              "  position: relative;\n",
              "  font-weight: normal;\n",
              "  right: .2ex;\n",
              "  padding: .5ex;\n",
              "  margin: .5ex;\n",
              "  width: min-content;\n",
              "  min-width: 20ex;\n",
              "  max-width: 50ex;\n",
              "  color: var(--sklearn-color-text);\n",
              "  box-shadow: 2pt 2pt 4pt #999;\n",
              "  /* unfitted */\n",
              "  background: var(--sklearn-color-unfitted-level-0);\n",
              "  border: .5pt solid var(--sklearn-color-unfitted-level-3);\n",
              "}\n",
              "\n",
              ".sk-estimator-doc-link.fitted span {\n",
              "  /* fitted */\n",
              "  background: var(--sklearn-color-fitted-level-0);\n",
              "  border: var(--sklearn-color-fitted-level-3);\n",
              "}\n",
              "\n",
              ".sk-estimator-doc-link:hover span {\n",
              "  display: block;\n",
              "}\n",
              "\n",
              "/* \"?\"-specific style due to the `<a>` HTML tag */\n",
              "\n",
              "#sk-container-id-1 a.estimator_doc_link {\n",
              "  float: right;\n",
              "  font-size: 1rem;\n",
              "  line-height: 1em;\n",
              "  font-family: monospace;\n",
              "  background-color: var(--sklearn-color-background);\n",
              "  border-radius: 1rem;\n",
              "  height: 1rem;\n",
              "  width: 1rem;\n",
              "  text-decoration: none;\n",
              "  /* unfitted */\n",
              "  color: var(--sklearn-color-unfitted-level-1);\n",
              "  border: var(--sklearn-color-unfitted-level-1) 1pt solid;\n",
              "}\n",
              "\n",
              "#sk-container-id-1 a.estimator_doc_link.fitted {\n",
              "  /* fitted */\n",
              "  border: var(--sklearn-color-fitted-level-1) 1pt solid;\n",
              "  color: var(--sklearn-color-fitted-level-1);\n",
              "}\n",
              "\n",
              "/* On hover */\n",
              "#sk-container-id-1 a.estimator_doc_link:hover {\n",
              "  /* unfitted */\n",
              "  background-color: var(--sklearn-color-unfitted-level-3);\n",
              "  color: var(--sklearn-color-background);\n",
              "  text-decoration: none;\n",
              "}\n",
              "\n",
              "#sk-container-id-1 a.estimator_doc_link.fitted:hover {\n",
              "  /* fitted */\n",
              "  background-color: var(--sklearn-color-fitted-level-3);\n",
              "}\n",
              "</style><div id=\"sk-container-id-1\" class=\"sk-top-container\"><div class=\"sk-text-repr-fallback\"><pre>SVC(random_state=42)</pre><b>In a Jupyter environment, please rerun this cell to show the HTML representation or trust the notebook. <br />On GitHub, the HTML representation is unable to render, please try loading this page with nbviewer.org.</b></div><div class=\"sk-container\" hidden><div class=\"sk-item\"><div class=\"sk-estimator fitted sk-toggleable\"><input class=\"sk-toggleable__control sk-hidden--visually\" id=\"sk-estimator-id-1\" type=\"checkbox\" checked><label for=\"sk-estimator-id-1\" class=\"sk-toggleable__label fitted sk-toggleable__label-arrow\"><div><div>SVC</div></div><div><a class=\"sk-estimator-doc-link fitted\" rel=\"noreferrer\" target=\"_blank\" href=\"https://scikit-learn.org/1.6/modules/generated/sklearn.svm.SVC.html\">?<span>Documentation for SVC</span></a><span class=\"sk-estimator-doc-link fitted\">i<span>Fitted</span></span></div></label><div class=\"sk-toggleable__content fitted\"><pre>SVC(random_state=42)</pre></div> </div></div></div></div>"
            ]
          },
          "metadata": {},
          "execution_count": 35
        }
      ]
    },
    {
      "cell_type": "code",
      "source": [
        "from sklearn.metrics import confusion_matrix # this creates a confusion matrix\n",
        "from sklearn.metrics import ConfusionMatrixDisplay # creates and draws a confusion matrix"
      ],
      "metadata": {
        "id": "-i__OI-ypBwg"
      },
      "execution_count": 36,
      "outputs": []
    },
    {
      "cell_type": "code",
      "source": [
        "ConfusionMatrixDisplay.from_estimator(clf_svm,\n",
        "                                      X_test_downsampled,\n",
        "                                      y_test_downsampled,\n",
        "                                      values_format='d',\n",
        "                                      display_labels=[\"Did not default\", \"Defaulted\"])"
      ],
      "metadata": {
        "colab": {
          "base_uri": "https://localhost:8080/",
          "height": 467
        },
        "id": "1ZO_-d4oQWn8",
        "outputId": "401c78fe-2788-496c-ba91-0fdab54da35d"
      },
      "execution_count": 37,
      "outputs": [
        {
          "output_type": "execute_result",
          "data": {
            "text/plain": [
              "<sklearn.metrics._plot.confusion_matrix.ConfusionMatrixDisplay at 0x78b0f0d239e0>"
            ]
          },
          "metadata": {},
          "execution_count": 37
        },
        {
          "output_type": "display_data",
          "data": {
            "text/plain": [
              "<Figure size 640x480 with 2 Axes>"
            ],
            "image/png": "[encoded data removed]"
          },
          "metadata": {}
        }
      ]
    },
    {
      "cell_type": "code",
      "source": [
        "print(\"SAVING COMPLETE MODEL PACKAGE\")\n",
        "print(\"=\" * 50)\n",
        "\n",
        "# Create a complete model package\n",
        "model_package = {\n",
        "    'model': {rf, clf_svm},\n",
        "    'preprocessors': {\n",
        "        'num_imputer': num_imputer,\n",
        "        'scaler': scaler,\n",
        "        'cat_imputer': cat_imputer,\n",
        "        'label_encoder': le,\n",
        "        'onehot_encoder': ohe,\n",
        "\n",
        "\n",
        "    },\n",
        "    'data': {\n",
        "        'X_train': X_train_final,\n",
        "        'X_test': X_test_final,\n",
        "        'y_train': y_train,\n",
        "        'y_test': y_test\n",
        "    }\n",
        "}\n",
        "\n",
        "\n",
        "with open('model_package2.pkl', 'wb') as f:\n",
        "    pickle.dump(model_package, f)\n",
        "\n",
        "print(\"Saved: model_package2.pkl\")"
      ],
      "metadata": {
        "colab": {
          "base_uri": "https://localhost:8080/"
        },
        "id": "G6XD5HiqPCW1",
        "outputId": "79df8c3f-7274-4f39-9cba-0aed1892fabd"
      },
      "execution_count": 38,
      "outputs": [
        {
          "output_type": "stream",
          "name": "stdout",
          "text": [
            "SAVING COMPLETE MODEL PACKAGE\n",
            "==================================================\n",
            "Saved: model_package2.pkl\n"
          ]
        }
      ]
    }
  ]
}